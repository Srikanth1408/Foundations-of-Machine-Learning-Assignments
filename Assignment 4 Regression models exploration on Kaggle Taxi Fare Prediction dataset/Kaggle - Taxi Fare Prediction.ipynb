{
 "cells": [
  {
   "cell_type": "markdown",
   "metadata": {},
   "source": [
    "# 6. Kaggle - Taxi Fare Prediction:"
   ]
  },
  {
   "cell_type": "code",
   "execution_count": 1,
   "metadata": {
    "_cell_guid": "b1076dfc-b9ad-4769-8c92-a6c4dae69d19",
    "_uuid": "8f2839f25d086af736a60e9eeb907d3b93b6e0e5",
    "execution": {
     "iopub.execute_input": "2021-11-08T16:58:47.982886Z",
     "iopub.status.busy": "2021-11-08T16:58:47.982610Z",
     "iopub.status.idle": "2021-11-08T16:58:47.994794Z",
     "shell.execute_reply": "2021-11-08T16:58:47.993614Z",
     "shell.execute_reply.started": "2021-11-08T16:58:47.982859Z"
    }
   },
   "outputs": [],
   "source": [
    "import numpy as np \n",
    "import pandas as pd \n",
    "from sklearn import preprocessing\n",
    "from sklearn.model_selection import train_test_split\n",
    "from sklearn.linear_model import LinearRegression\n"
   ]
  },
  {
   "cell_type": "code",
   "execution_count": 2,
   "metadata": {
    "execution": {
     "iopub.execute_input": "2021-11-08T17:10:57.530531Z",
     "iopub.status.busy": "2021-11-08T17:10:57.530275Z",
     "iopub.status.idle": "2021-11-08T17:10:57.558192Z",
     "shell.execute_reply": "2021-11-08T17:10:57.557285Z",
     "shell.execute_reply.started": "2021-11-08T17:10:57.530505Z"
    }
   },
   "outputs": [],
   "source": [
    "df1=pd.read_csv('test1.csv')\n",
    "df2=pd.read_csv('test1.csv')"
   ]
  },
  {
   "cell_type": "code",
   "execution_count": 3,
   "metadata": {
    "execution": {
     "iopub.execute_input": "2021-11-08T16:58:48.023036Z",
     "iopub.status.busy": "2021-11-08T16:58:48.022797Z",
     "iopub.status.idle": "2021-11-08T16:58:48.460092Z",
     "shell.execute_reply": "2021-11-08T16:58:48.458946Z",
     "shell.execute_reply.started": "2021-11-08T16:58:48.023000Z"
    }
   },
   "outputs": [],
   "source": [
    "df=pd.read_csv('train1.csv',nrows=2_00_000)\n",
    "\n"
   ]
  },
  {
   "cell_type": "code",
   "execution_count": 4,
   "metadata": {
    "execution": {
     "iopub.execute_input": "2021-11-08T16:58:48.465412Z",
     "iopub.status.busy": "2021-11-08T16:58:48.462315Z",
     "iopub.status.idle": "2021-11-08T16:58:48.480081Z",
     "shell.execute_reply": "2021-11-08T16:58:48.478969Z",
     "shell.execute_reply.started": "2021-11-08T16:58:48.465351Z"
    }
   },
   "outputs": [
    {
     "data": {
      "text/plain": [
       "(9914, 7)"
      ]
     },
     "execution_count": 4,
     "metadata": {},
     "output_type": "execute_result"
    }
   ],
   "source": [
    "df1.shape"
   ]
  },
  {
   "cell_type": "code",
   "execution_count": 5,
   "metadata": {
    "execution": {
     "iopub.execute_input": "2021-11-08T16:58:48.481963Z",
     "iopub.status.busy": "2021-11-08T16:58:48.481682Z",
     "iopub.status.idle": "2021-11-08T16:58:48.500009Z",
     "shell.execute_reply": "2021-11-08T16:58:48.499507Z",
     "shell.execute_reply.started": "2021-11-08T16:58:48.481932Z"
    }
   },
   "outputs": [
    {
     "data": {
      "text/html": [
       "<div>\n",
       "<style scoped>\n",
       "    .dataframe tbody tr th:only-of-type {\n",
       "        vertical-align: middle;\n",
       "    }\n",
       "\n",
       "    .dataframe tbody tr th {\n",
       "        vertical-align: top;\n",
       "    }\n",
       "\n",
       "    .dataframe thead th {\n",
       "        text-align: right;\n",
       "    }\n",
       "</style>\n",
       "<table border=\"1\" class=\"dataframe\">\n",
       "  <thead>\n",
       "    <tr style=\"text-align: right;\">\n",
       "      <th></th>\n",
       "      <th>key</th>\n",
       "      <th>fare_amount</th>\n",
       "      <th>pickup_datetime</th>\n",
       "      <th>pickup_longitude</th>\n",
       "      <th>pickup_latitude</th>\n",
       "      <th>dropoff_longitude</th>\n",
       "      <th>dropoff_latitude</th>\n",
       "      <th>passenger_count</th>\n",
       "    </tr>\n",
       "  </thead>\n",
       "  <tbody>\n",
       "    <tr>\n",
       "      <th>0</th>\n",
       "      <td>2009-06-15 17:26:21.0000001</td>\n",
       "      <td>4.5</td>\n",
       "      <td>2009-06-15 17:26:21 UTC</td>\n",
       "      <td>-73.844311</td>\n",
       "      <td>40.721319</td>\n",
       "      <td>-73.841610</td>\n",
       "      <td>40.712278</td>\n",
       "      <td>1</td>\n",
       "    </tr>\n",
       "    <tr>\n",
       "      <th>1</th>\n",
       "      <td>2010-01-05 16:52:16.0000002</td>\n",
       "      <td>16.9</td>\n",
       "      <td>2010-01-05 16:52:16 UTC</td>\n",
       "      <td>-74.016048</td>\n",
       "      <td>40.711303</td>\n",
       "      <td>-73.979268</td>\n",
       "      <td>40.782004</td>\n",
       "      <td>1</td>\n",
       "    </tr>\n",
       "    <tr>\n",
       "      <th>2</th>\n",
       "      <td>2011-08-18 00:35:00.00000049</td>\n",
       "      <td>5.7</td>\n",
       "      <td>2011-08-18 00:35:00 UTC</td>\n",
       "      <td>-73.982738</td>\n",
       "      <td>40.761270</td>\n",
       "      <td>-73.991242</td>\n",
       "      <td>40.750562</td>\n",
       "      <td>2</td>\n",
       "    </tr>\n",
       "    <tr>\n",
       "      <th>3</th>\n",
       "      <td>2012-04-21 04:30:42.0000001</td>\n",
       "      <td>7.7</td>\n",
       "      <td>2012-04-21 04:30:42 UTC</td>\n",
       "      <td>-73.987130</td>\n",
       "      <td>40.733143</td>\n",
       "      <td>-73.991567</td>\n",
       "      <td>40.758092</td>\n",
       "      <td>1</td>\n",
       "    </tr>\n",
       "    <tr>\n",
       "      <th>4</th>\n",
       "      <td>2010-03-09 07:51:00.000000135</td>\n",
       "      <td>5.3</td>\n",
       "      <td>2010-03-09 07:51:00 UTC</td>\n",
       "      <td>-73.968095</td>\n",
       "      <td>40.768008</td>\n",
       "      <td>-73.956655</td>\n",
       "      <td>40.783762</td>\n",
       "      <td>1</td>\n",
       "    </tr>\n",
       "  </tbody>\n",
       "</table>\n",
       "</div>"
      ],
      "text/plain": [
       "                             key  fare_amount          pickup_datetime  \\\n",
       "0    2009-06-15 17:26:21.0000001          4.5  2009-06-15 17:26:21 UTC   \n",
       "1    2010-01-05 16:52:16.0000002         16.9  2010-01-05 16:52:16 UTC   \n",
       "2   2011-08-18 00:35:00.00000049          5.7  2011-08-18 00:35:00 UTC   \n",
       "3    2012-04-21 04:30:42.0000001          7.7  2012-04-21 04:30:42 UTC   \n",
       "4  2010-03-09 07:51:00.000000135          5.3  2010-03-09 07:51:00 UTC   \n",
       "\n",
       "   pickup_longitude  pickup_latitude  dropoff_longitude  dropoff_latitude  \\\n",
       "0        -73.844311        40.721319         -73.841610         40.712278   \n",
       "1        -74.016048        40.711303         -73.979268         40.782004   \n",
       "2        -73.982738        40.761270         -73.991242         40.750562   \n",
       "3        -73.987130        40.733143         -73.991567         40.758092   \n",
       "4        -73.968095        40.768008         -73.956655         40.783762   \n",
       "\n",
       "   passenger_count  \n",
       "0                1  \n",
       "1                1  \n",
       "2                2  \n",
       "3                1  \n",
       "4                1  "
      ]
     },
     "execution_count": 5,
     "metadata": {},
     "output_type": "execute_result"
    }
   ],
   "source": [
    "df.head()"
   ]
  },
  {
   "cell_type": "code",
   "execution_count": 6,
   "metadata": {
    "execution": {
     "iopub.execute_input": "2021-11-08T16:58:48.501604Z",
     "iopub.status.busy": "2021-11-08T16:58:48.501216Z",
     "iopub.status.idle": "2021-11-08T16:58:48.509565Z",
     "shell.execute_reply": "2021-11-08T16:58:48.508433Z",
     "shell.execute_reply.started": "2021-11-08T16:58:48.501536Z"
    }
   },
   "outputs": [
    {
     "data": {
      "text/plain": [
       "key                   object\n",
       "fare_amount          float64\n",
       "pickup_datetime       object\n",
       "pickup_longitude     float64\n",
       "pickup_latitude      float64\n",
       "dropoff_longitude    float64\n",
       "dropoff_latitude     float64\n",
       "passenger_count        int64\n",
       "dtype: object"
      ]
     },
     "execution_count": 6,
     "metadata": {},
     "output_type": "execute_result"
    }
   ],
   "source": [
    "df.dtypes"
   ]
  },
  {
   "cell_type": "raw",
   "metadata": {},
   "source": [
    "Calculated distance travelled"
   ]
  },
  {
   "cell_type": "code",
   "execution_count": 7,
   "metadata": {
    "execution": {
     "iopub.execute_input": "2021-11-08T16:58:48.537052Z",
     "iopub.status.busy": "2021-11-08T16:58:48.536082Z",
     "iopub.status.idle": "2021-11-08T16:58:48.549363Z",
     "shell.execute_reply": "2021-11-08T16:58:48.548239Z",
     "shell.execute_reply.started": "2021-11-08T16:58:48.536998Z"
    }
   },
   "outputs": [
    {
     "data": {
      "text/plain": [
       "(9914,)"
      ]
     },
     "execution_count": 7,
     "metadata": {},
     "output_type": "execute_result"
    }
   ],
   "source": [
    "a=df['pickup_latitude']\n",
    "b=df['dropoff_latitude']\n",
    "c=df['pickup_longitude']\n",
    "d=df['dropoff_longitude']\n",
    "a[0]\n",
    "e=df1['pickup_latitude']\n",
    "f=df1['dropoff_latitude']\n",
    "g=df1['pickup_longitude']\n",
    "h=df1['dropoff_longitude']\n",
    "e.shape"
   ]
  },
  {
   "cell_type": "code",
   "execution_count": 8,
   "metadata": {
    "execution": {
     "iopub.execute_input": "2021-11-08T16:58:48.551442Z",
     "iopub.status.busy": "2021-11-08T16:58:48.550937Z",
     "iopub.status.idle": "2021-11-08T16:58:48.561869Z",
     "shell.execute_reply": "2021-11-08T16:58:48.560573Z",
     "shell.execute_reply.started": "2021-11-08T16:58:48.551387Z"
    }
   },
   "outputs": [
    {
     "name": "stdout",
     "output_type": "stream",
     "text": [
      "1.030763935049508\n"
     ]
    }
   ],
   "source": [
    "from math import radians, cos, sin, asin, sqrt\n",
    "def distance(lat1, lat2, lon1, lon2):\n",
    "    \n",
    "    lon1 = radians(lon1)\n",
    "    lon2 = radians(lon2)\n",
    "    lat1 = radians(lat1)\n",
    "    lat2 = radians(lat2)\n",
    "\n",
    "    dlon = lon2 - lon1\n",
    "    dlat = lat2 - lat1\n",
    "    a = sin(dlat / 2)**2 + cos(lat1) * cos(lat2) * sin(dlon / 2)**2\n",
    " \n",
    "    c = 2 * asin(sqrt(a))\n",
    "\n",
    "    r = 6371\n",
    "\n",
    "    return(c * r)\n",
    "\n",
    "lat1 = a[0]\n",
    "lat2 = b[0]\n",
    "lon1 = c[0]\n",
    "lon2 = d[0]\n",
    "print(distance(lat1, lat2, lon1, lon2))"
   ]
  },
  {
   "cell_type": "code",
   "execution_count": 9,
   "metadata": {
    "execution": {
     "iopub.execute_input": "2021-11-08T16:58:48.564723Z",
     "iopub.status.busy": "2021-11-08T16:58:48.563866Z",
     "iopub.status.idle": "2021-11-08T16:58:51.247217Z",
     "shell.execute_reply": "2021-11-08T16:58:51.246370Z",
     "shell.execute_reply.started": "2021-11-08T16:58:48.564672Z"
    }
   },
   "outputs": [
    {
     "data": {
      "text/plain": [
       "0          1.030764\n",
       "1          8.450134\n",
       "2          1.389525\n",
       "3          2.799270\n",
       "4          1.999157\n",
       "            ...    \n",
       "199995     3.234267\n",
       "199996     4.735418\n",
       "199997     2.367682\n",
       "199998     4.085196\n",
       "199999    12.314094\n",
       "Name: distance_in_km, Length: 200000, dtype: float64"
      ]
     },
     "execution_count": 9,
     "metadata": {},
     "output_type": "execute_result"
    }
   ],
   "source": [
    "dist=[]\n",
    "for i in range(len(a)):\n",
    "    dist.append(distance(a[i],b[i],c[i],d[i]))\n",
    "\n",
    "df['distance_in_km']=dist\n",
    "df['distance_in_km']"
   ]
  },
  {
   "cell_type": "code",
   "execution_count": 10,
   "metadata": {
    "execution": {
     "iopub.execute_input": "2021-11-08T16:58:51.250236Z",
     "iopub.status.busy": "2021-11-08T16:58:51.248788Z",
     "iopub.status.idle": "2021-11-08T16:58:51.397024Z",
     "shell.execute_reply": "2021-11-08T16:58:51.396439Z",
     "shell.execute_reply.started": "2021-11-08T16:58:51.250129Z"
    }
   },
   "outputs": [
    {
     "data": {
      "text/plain": [
       "0        2.323260\n",
       "1        2.425353\n",
       "2        0.618628\n",
       "3        1.961033\n",
       "4        5.387301\n",
       "          ...    \n",
       "9909     2.124874\n",
       "9910     3.270969\n",
       "9911    19.183941\n",
       "9912     8.343486\n",
       "9913     1.180825\n",
       "Name: distance_in_km, Length: 9914, dtype: float64"
      ]
     },
     "execution_count": 10,
     "metadata": {},
     "output_type": "execute_result"
    }
   ],
   "source": [
    "dist1=[]\n",
    "for j in range(len(e)):\n",
    "    dist1.append(distance(e[j],f[j],g[j],h[j]))\n",
    "\n",
    "df1['distance_in_km']=dist1\n",
    "df1['distance_in_km']"
   ]
  },
  {
   "cell_type": "code",
   "execution_count": 11,
   "metadata": {
    "execution": {
     "iopub.execute_input": "2021-11-08T16:58:51.399117Z",
     "iopub.status.busy": "2021-11-08T16:58:51.398303Z",
     "iopub.status.idle": "2021-11-08T16:58:51.460831Z",
     "shell.execute_reply": "2021-11-08T16:58:51.459728Z",
     "shell.execute_reply.started": "2021-11-08T16:58:51.399083Z"
    }
   },
   "outputs": [
    {
     "data": {
      "text/html": [
       "<div>\n",
       "<style scoped>\n",
       "    .dataframe tbody tr th:only-of-type {\n",
       "        vertical-align: middle;\n",
       "    }\n",
       "\n",
       "    .dataframe tbody tr th {\n",
       "        vertical-align: top;\n",
       "    }\n",
       "\n",
       "    .dataframe thead th {\n",
       "        text-align: right;\n",
       "    }\n",
       "</style>\n",
       "<table border=\"1\" class=\"dataframe\">\n",
       "  <thead>\n",
       "    <tr style=\"text-align: right;\">\n",
       "      <th></th>\n",
       "      <th>fare_amount</th>\n",
       "      <th>pickup_longitude</th>\n",
       "      <th>pickup_latitude</th>\n",
       "      <th>dropoff_longitude</th>\n",
       "      <th>dropoff_latitude</th>\n",
       "      <th>passenger_count</th>\n",
       "      <th>distance_in_km</th>\n",
       "    </tr>\n",
       "  </thead>\n",
       "  <tbody>\n",
       "    <tr>\n",
       "      <th>fare_amount</th>\n",
       "      <td>1.000000</td>\n",
       "      <td>0.009793</td>\n",
       "      <td>-0.008967</td>\n",
       "      <td>0.008768</td>\n",
       "      <td>-0.007940</td>\n",
       "      <td>0.013875</td>\n",
       "      <td>0.021238</td>\n",
       "    </tr>\n",
       "    <tr>\n",
       "      <th>pickup_longitude</th>\n",
       "      <td>0.009793</td>\n",
       "      <td>1.000000</td>\n",
       "      <td>-0.381366</td>\n",
       "      <td>0.723496</td>\n",
       "      <td>-0.931383</td>\n",
       "      <td>-0.000587</td>\n",
       "      <td>0.134607</td>\n",
       "    </tr>\n",
       "    <tr>\n",
       "      <th>pickup_latitude</th>\n",
       "      <td>-0.008967</td>\n",
       "      <td>-0.381366</td>\n",
       "      <td>1.000000</td>\n",
       "      <td>-0.640873</td>\n",
       "      <td>0.369560</td>\n",
       "      <td>0.000150</td>\n",
       "      <td>-0.100949</td>\n",
       "    </tr>\n",
       "    <tr>\n",
       "      <th>dropoff_longitude</th>\n",
       "      <td>0.008768</td>\n",
       "      <td>0.723496</td>\n",
       "      <td>-0.640873</td>\n",
       "      <td>1.000000</td>\n",
       "      <td>-0.752919</td>\n",
       "      <td>0.000569</td>\n",
       "      <td>0.135909</td>\n",
       "    </tr>\n",
       "    <tr>\n",
       "      <th>dropoff_latitude</th>\n",
       "      <td>-0.007940</td>\n",
       "      <td>-0.931383</td>\n",
       "      <td>0.369560</td>\n",
       "      <td>-0.752919</td>\n",
       "      <td>1.000000</td>\n",
       "      <td>-0.000865</td>\n",
       "      <td>-0.118853</td>\n",
       "    </tr>\n",
       "    <tr>\n",
       "      <th>passenger_count</th>\n",
       "      <td>0.013875</td>\n",
       "      <td>-0.000587</td>\n",
       "      <td>0.000150</td>\n",
       "      <td>0.000569</td>\n",
       "      <td>-0.000865</td>\n",
       "      <td>1.000000</td>\n",
       "      <td>0.000389</td>\n",
       "    </tr>\n",
       "    <tr>\n",
       "      <th>distance_in_km</th>\n",
       "      <td>0.021238</td>\n",
       "      <td>0.134607</td>\n",
       "      <td>-0.100949</td>\n",
       "      <td>0.135909</td>\n",
       "      <td>-0.118853</td>\n",
       "      <td>0.000389</td>\n",
       "      <td>1.000000</td>\n",
       "    </tr>\n",
       "  </tbody>\n",
       "</table>\n",
       "</div>"
      ],
      "text/plain": [
       "                   fare_amount  pickup_longitude  pickup_latitude  \\\n",
       "fare_amount           1.000000          0.009793        -0.008967   \n",
       "pickup_longitude      0.009793          1.000000        -0.381366   \n",
       "pickup_latitude      -0.008967         -0.381366         1.000000   \n",
       "dropoff_longitude     0.008768          0.723496        -0.640873   \n",
       "dropoff_latitude     -0.007940         -0.931383         0.369560   \n",
       "passenger_count       0.013875         -0.000587         0.000150   \n",
       "distance_in_km        0.021238          0.134607        -0.100949   \n",
       "\n",
       "                   dropoff_longitude  dropoff_latitude  passenger_count  \\\n",
       "fare_amount                 0.008768         -0.007940         0.013875   \n",
       "pickup_longitude            0.723496         -0.931383        -0.000587   \n",
       "pickup_latitude            -0.640873          0.369560         0.000150   \n",
       "dropoff_longitude           1.000000         -0.752919         0.000569   \n",
       "dropoff_latitude           -0.752919          1.000000        -0.000865   \n",
       "passenger_count             0.000569         -0.000865         1.000000   \n",
       "distance_in_km              0.135909         -0.118853         0.000389   \n",
       "\n",
       "                   distance_in_km  \n",
       "fare_amount              0.021238  \n",
       "pickup_longitude         0.134607  \n",
       "pickup_latitude         -0.100949  \n",
       "dropoff_longitude        0.135909  \n",
       "dropoff_latitude        -0.118853  \n",
       "passenger_count          0.000389  \n",
       "distance_in_km           1.000000  "
      ]
     },
     "execution_count": 11,
     "metadata": {},
     "output_type": "execute_result"
    }
   ],
   "source": [
    "df.corr()"
   ]
  },
  {
   "cell_type": "code",
   "execution_count": 12,
   "metadata": {
    "execution": {
     "iopub.execute_input": "2021-11-08T16:58:51.462689Z",
     "iopub.status.busy": "2021-11-08T16:58:51.462422Z",
     "iopub.status.idle": "2021-11-08T16:59:15.425331Z",
     "shell.execute_reply": "2021-11-08T16:59:15.424140Z",
     "shell.execute_reply.started": "2021-11-08T16:58:51.462663Z"
    }
   },
   "outputs": [],
   "source": [
    "#Created new columns from existing datetime column\n",
    "df['pickup_datetime']=pd.to_datetime(df['pickup_datetime'])\n",
    "df1['pickup_datetime']=pd.to_datetime(df1['pickup_datetime'])\n"
   ]
  },
  {
   "cell_type": "code",
   "execution_count": 13,
   "metadata": {
    "execution": {
     "iopub.execute_input": "2021-11-08T16:59:15.427199Z",
     "iopub.status.busy": "2021-11-08T16:59:15.426894Z",
     "iopub.status.idle": "2021-11-08T16:59:15.571715Z",
     "shell.execute_reply": "2021-11-08T16:59:15.570778Z",
     "shell.execute_reply.started": "2021-11-08T16:59:15.427170Z"
    }
   },
   "outputs": [],
   "source": [
    "data=[df,df1]\n",
    "for i in data:\n",
    "    i['Year'] = i['pickup_datetime'].dt.year\n",
    "    i['Month'] = i['pickup_datetime'].dt.month\n",
    "    i['Date'] = i['pickup_datetime'].dt.day\n",
    "    i['Day of Week'] = i['pickup_datetime'].dt.dayofweek\n",
    "    i['Hour'] = i['pickup_datetime'].dt.hour"
   ]
  },
  {
   "cell_type": "code",
   "execution_count": 14,
   "metadata": {},
   "outputs": [
    {
     "data": {
      "text/plain": [
       "(9914, 13)"
      ]
     },
     "execution_count": 14,
     "metadata": {},
     "output_type": "execute_result"
    }
   ],
   "source": [
    "df1.shape"
   ]
  },
  {
   "cell_type": "code",
   "execution_count": 15,
   "metadata": {
    "execution": {
     "iopub.execute_input": "2021-11-08T16:59:15.573680Z",
     "iopub.status.busy": "2021-11-08T16:59:15.573404Z",
     "iopub.status.idle": "2021-11-08T16:59:15.614491Z",
     "shell.execute_reply": "2021-11-08T16:59:15.613571Z",
     "shell.execute_reply.started": "2021-11-08T16:59:15.573650Z"
    }
   },
   "outputs": [],
   "source": [
    "df.drop(['pickup_datetime'], axis=1,inplace=True)\n",
    "df1.drop(['pickup_datetime'], axis=1,inplace=True)"
   ]
  },
  {
   "cell_type": "code",
   "execution_count": 16,
   "metadata": {
    "execution": {
     "iopub.execute_input": "2021-11-08T16:59:15.616349Z",
     "iopub.status.busy": "2021-11-08T16:59:15.616009Z",
     "iopub.status.idle": "2021-11-08T16:59:15.634359Z",
     "shell.execute_reply": "2021-11-08T16:59:15.633212Z",
     "shell.execute_reply.started": "2021-11-08T16:59:15.616304Z"
    }
   },
   "outputs": [],
   "source": [
    "df.drop(['key'], axis=1,inplace=True)\n",
    "df1.drop(['key'], axis=1,inplace=True)"
   ]
  },
  {
   "cell_type": "code",
   "execution_count": 17,
   "metadata": {
    "execution": {
     "iopub.execute_input": "2021-11-08T16:59:15.637009Z",
     "iopub.status.busy": "2021-11-08T16:59:15.636443Z",
     "iopub.status.idle": "2021-11-08T16:59:15.661648Z",
     "shell.execute_reply": "2021-11-08T16:59:15.660642Z",
     "shell.execute_reply.started": "2021-11-08T16:59:15.636965Z"
    }
   },
   "outputs": [
    {
     "data": {
      "text/html": [
       "<div>\n",
       "<style scoped>\n",
       "    .dataframe tbody tr th:only-of-type {\n",
       "        vertical-align: middle;\n",
       "    }\n",
       "\n",
       "    .dataframe tbody tr th {\n",
       "        vertical-align: top;\n",
       "    }\n",
       "\n",
       "    .dataframe thead th {\n",
       "        text-align: right;\n",
       "    }\n",
       "</style>\n",
       "<table border=\"1\" class=\"dataframe\">\n",
       "  <thead>\n",
       "    <tr style=\"text-align: right;\">\n",
       "      <th></th>\n",
       "      <th>fare_amount</th>\n",
       "      <th>pickup_longitude</th>\n",
       "      <th>pickup_latitude</th>\n",
       "      <th>dropoff_longitude</th>\n",
       "      <th>dropoff_latitude</th>\n",
       "      <th>passenger_count</th>\n",
       "      <th>distance_in_km</th>\n",
       "      <th>Year</th>\n",
       "      <th>Month</th>\n",
       "      <th>Date</th>\n",
       "      <th>Day of Week</th>\n",
       "      <th>Hour</th>\n",
       "    </tr>\n",
       "  </thead>\n",
       "  <tbody>\n",
       "    <tr>\n",
       "      <th>0</th>\n",
       "      <td>4.50</td>\n",
       "      <td>-73.844311</td>\n",
       "      <td>40.721319</td>\n",
       "      <td>-73.841610</td>\n",
       "      <td>40.712278</td>\n",
       "      <td>1</td>\n",
       "      <td>1.030764</td>\n",
       "      <td>2009</td>\n",
       "      <td>6</td>\n",
       "      <td>15</td>\n",
       "      <td>0</td>\n",
       "      <td>17</td>\n",
       "    </tr>\n",
       "    <tr>\n",
       "      <th>1</th>\n",
       "      <td>16.90</td>\n",
       "      <td>-74.016048</td>\n",
       "      <td>40.711303</td>\n",
       "      <td>-73.979268</td>\n",
       "      <td>40.782004</td>\n",
       "      <td>1</td>\n",
       "      <td>8.450134</td>\n",
       "      <td>2010</td>\n",
       "      <td>1</td>\n",
       "      <td>5</td>\n",
       "      <td>1</td>\n",
       "      <td>16</td>\n",
       "    </tr>\n",
       "    <tr>\n",
       "      <th>2</th>\n",
       "      <td>5.70</td>\n",
       "      <td>-73.982738</td>\n",
       "      <td>40.761270</td>\n",
       "      <td>-73.991242</td>\n",
       "      <td>40.750562</td>\n",
       "      <td>2</td>\n",
       "      <td>1.389525</td>\n",
       "      <td>2011</td>\n",
       "      <td>8</td>\n",
       "      <td>18</td>\n",
       "      <td>3</td>\n",
       "      <td>0</td>\n",
       "    </tr>\n",
       "    <tr>\n",
       "      <th>3</th>\n",
       "      <td>7.70</td>\n",
       "      <td>-73.987130</td>\n",
       "      <td>40.733143</td>\n",
       "      <td>-73.991567</td>\n",
       "      <td>40.758092</td>\n",
       "      <td>1</td>\n",
       "      <td>2.799270</td>\n",
       "      <td>2012</td>\n",
       "      <td>4</td>\n",
       "      <td>21</td>\n",
       "      <td>5</td>\n",
       "      <td>4</td>\n",
       "    </tr>\n",
       "    <tr>\n",
       "      <th>4</th>\n",
       "      <td>5.30</td>\n",
       "      <td>-73.968095</td>\n",
       "      <td>40.768008</td>\n",
       "      <td>-73.956655</td>\n",
       "      <td>40.783762</td>\n",
       "      <td>1</td>\n",
       "      <td>1.999157</td>\n",
       "      <td>2010</td>\n",
       "      <td>3</td>\n",
       "      <td>9</td>\n",
       "      <td>1</td>\n",
       "      <td>7</td>\n",
       "    </tr>\n",
       "    <tr>\n",
       "      <th>...</th>\n",
       "      <td>...</td>\n",
       "      <td>...</td>\n",
       "      <td>...</td>\n",
       "      <td>...</td>\n",
       "      <td>...</td>\n",
       "      <td>...</td>\n",
       "      <td>...</td>\n",
       "      <td>...</td>\n",
       "      <td>...</td>\n",
       "      <td>...</td>\n",
       "      <td>...</td>\n",
       "      <td>...</td>\n",
       "    </tr>\n",
       "    <tr>\n",
       "      <th>199995</th>\n",
       "      <td>8.90</td>\n",
       "      <td>-73.989939</td>\n",
       "      <td>40.729423</td>\n",
       "      <td>-73.990683</td>\n",
       "      <td>40.758504</td>\n",
       "      <td>1</td>\n",
       "      <td>3.234267</td>\n",
       "      <td>2011</td>\n",
       "      <td>3</td>\n",
       "      <td>24</td>\n",
       "      <td>3</td>\n",
       "      <td>1</td>\n",
       "    </tr>\n",
       "    <tr>\n",
       "      <th>199996</th>\n",
       "      <td>14.10</td>\n",
       "      <td>-74.005021</td>\n",
       "      <td>40.739912</td>\n",
       "      <td>-73.961319</td>\n",
       "      <td>40.766701</td>\n",
       "      <td>3</td>\n",
       "      <td>4.735418</td>\n",
       "      <td>2012</td>\n",
       "      <td>6</td>\n",
       "      <td>20</td>\n",
       "      <td>2</td>\n",
       "      <td>21</td>\n",
       "    </tr>\n",
       "    <tr>\n",
       "      <th>199997</th>\n",
       "      <td>6.90</td>\n",
       "      <td>-73.993203</td>\n",
       "      <td>40.752092</td>\n",
       "      <td>-74.003508</td>\n",
       "      <td>40.732282</td>\n",
       "      <td>1</td>\n",
       "      <td>2.367682</td>\n",
       "      <td>2012</td>\n",
       "      <td>8</td>\n",
       "      <td>4</td>\n",
       "      <td>5</td>\n",
       "      <td>19</td>\n",
       "    </tr>\n",
       "    <tr>\n",
       "      <th>199998</th>\n",
       "      <td>18.00</td>\n",
       "      <td>-73.994411</td>\n",
       "      <td>40.750884</td>\n",
       "      <td>-73.978532</td>\n",
       "      <td>40.785599</td>\n",
       "      <td>1</td>\n",
       "      <td>4.085196</td>\n",
       "      <td>2013</td>\n",
       "      <td>11</td>\n",
       "      <td>26</td>\n",
       "      <td>1</td>\n",
       "      <td>18</td>\n",
       "    </tr>\n",
       "    <tr>\n",
       "      <th>199999</th>\n",
       "      <td>42.83</td>\n",
       "      <td>-74.001656</td>\n",
       "      <td>40.730495</td>\n",
       "      <td>-73.865578</td>\n",
       "      <td>40.770958</td>\n",
       "      <td>4</td>\n",
       "      <td>12.314094</td>\n",
       "      <td>2015</td>\n",
       "      <td>1</td>\n",
       "      <td>6</td>\n",
       "      <td>1</td>\n",
       "      <td>10</td>\n",
       "    </tr>\n",
       "  </tbody>\n",
       "</table>\n",
       "<p>200000 rows × 12 columns</p>\n",
       "</div>"
      ],
      "text/plain": [
       "        fare_amount  pickup_longitude  pickup_latitude  dropoff_longitude  \\\n",
       "0              4.50        -73.844311        40.721319         -73.841610   \n",
       "1             16.90        -74.016048        40.711303         -73.979268   \n",
       "2              5.70        -73.982738        40.761270         -73.991242   \n",
       "3              7.70        -73.987130        40.733143         -73.991567   \n",
       "4              5.30        -73.968095        40.768008         -73.956655   \n",
       "...             ...               ...              ...                ...   \n",
       "199995         8.90        -73.989939        40.729423         -73.990683   \n",
       "199996        14.10        -74.005021        40.739912         -73.961319   \n",
       "199997         6.90        -73.993203        40.752092         -74.003508   \n",
       "199998        18.00        -73.994411        40.750884         -73.978532   \n",
       "199999        42.83        -74.001656        40.730495         -73.865578   \n",
       "\n",
       "        dropoff_latitude  passenger_count  distance_in_km  Year  Month  Date  \\\n",
       "0              40.712278                1        1.030764  2009      6    15   \n",
       "1              40.782004                1        8.450134  2010      1     5   \n",
       "2              40.750562                2        1.389525  2011      8    18   \n",
       "3              40.758092                1        2.799270  2012      4    21   \n",
       "4              40.783762                1        1.999157  2010      3     9   \n",
       "...                  ...              ...             ...   ...    ...   ...   \n",
       "199995         40.758504                1        3.234267  2011      3    24   \n",
       "199996         40.766701                3        4.735418  2012      6    20   \n",
       "199997         40.732282                1        2.367682  2012      8     4   \n",
       "199998         40.785599                1        4.085196  2013     11    26   \n",
       "199999         40.770958                4       12.314094  2015      1     6   \n",
       "\n",
       "        Day of Week  Hour  \n",
       "0                 0    17  \n",
       "1                 1    16  \n",
       "2                 3     0  \n",
       "3                 5     4  \n",
       "4                 1     7  \n",
       "...             ...   ...  \n",
       "199995            3     1  \n",
       "199996            2    21  \n",
       "199997            5    19  \n",
       "199998            1    18  \n",
       "199999            1    10  \n",
       "\n",
       "[200000 rows x 12 columns]"
      ]
     },
     "execution_count": 17,
     "metadata": {},
     "output_type": "execute_result"
    }
   ],
   "source": [
    "df"
   ]
  },
  {
   "cell_type": "code",
   "execution_count": 18,
   "metadata": {
    "execution": {
     "iopub.execute_input": "2021-11-08T16:59:15.663784Z",
     "iopub.status.busy": "2021-11-08T16:59:15.663419Z",
     "iopub.status.idle": "2021-11-08T16:59:15.686132Z",
     "shell.execute_reply": "2021-11-08T16:59:15.685178Z",
     "shell.execute_reply.started": "2021-11-08T16:59:15.663741Z"
    }
   },
   "outputs": [
    {
     "data": {
      "text/html": [
       "<div>\n",
       "<style scoped>\n",
       "    .dataframe tbody tr th:only-of-type {\n",
       "        vertical-align: middle;\n",
       "    }\n",
       "\n",
       "    .dataframe tbody tr th {\n",
       "        vertical-align: top;\n",
       "    }\n",
       "\n",
       "    .dataframe thead th {\n",
       "        text-align: right;\n",
       "    }\n",
       "</style>\n",
       "<table border=\"1\" class=\"dataframe\">\n",
       "  <thead>\n",
       "    <tr style=\"text-align: right;\">\n",
       "      <th></th>\n",
       "      <th>fare_amount</th>\n",
       "      <th>pickup_longitude</th>\n",
       "      <th>pickup_latitude</th>\n",
       "      <th>dropoff_longitude</th>\n",
       "      <th>dropoff_latitude</th>\n",
       "      <th>passenger_count</th>\n",
       "      <th>distance_in_km</th>\n",
       "      <th>Year</th>\n",
       "      <th>Month</th>\n",
       "      <th>Date</th>\n",
       "      <th>Day of Week</th>\n",
       "      <th>Hour</th>\n",
       "    </tr>\n",
       "  </thead>\n",
       "  <tbody>\n",
       "    <tr>\n",
       "      <th>0</th>\n",
       "      <td>4.50</td>\n",
       "      <td>-73.844311</td>\n",
       "      <td>40.721319</td>\n",
       "      <td>-73.841610</td>\n",
       "      <td>40.712278</td>\n",
       "      <td>1</td>\n",
       "      <td>1.030764</td>\n",
       "      <td>2009</td>\n",
       "      <td>6</td>\n",
       "      <td>15</td>\n",
       "      <td>0</td>\n",
       "      <td>17</td>\n",
       "    </tr>\n",
       "    <tr>\n",
       "      <th>1</th>\n",
       "      <td>16.90</td>\n",
       "      <td>-74.016048</td>\n",
       "      <td>40.711303</td>\n",
       "      <td>-73.979268</td>\n",
       "      <td>40.782004</td>\n",
       "      <td>1</td>\n",
       "      <td>8.450134</td>\n",
       "      <td>2010</td>\n",
       "      <td>1</td>\n",
       "      <td>5</td>\n",
       "      <td>1</td>\n",
       "      <td>16</td>\n",
       "    </tr>\n",
       "    <tr>\n",
       "      <th>2</th>\n",
       "      <td>5.70</td>\n",
       "      <td>-73.982738</td>\n",
       "      <td>40.761270</td>\n",
       "      <td>-73.991242</td>\n",
       "      <td>40.750562</td>\n",
       "      <td>2</td>\n",
       "      <td>1.389525</td>\n",
       "      <td>2011</td>\n",
       "      <td>8</td>\n",
       "      <td>18</td>\n",
       "      <td>3</td>\n",
       "      <td>0</td>\n",
       "    </tr>\n",
       "    <tr>\n",
       "      <th>3</th>\n",
       "      <td>7.70</td>\n",
       "      <td>-73.987130</td>\n",
       "      <td>40.733143</td>\n",
       "      <td>-73.991567</td>\n",
       "      <td>40.758092</td>\n",
       "      <td>1</td>\n",
       "      <td>2.799270</td>\n",
       "      <td>2012</td>\n",
       "      <td>4</td>\n",
       "      <td>21</td>\n",
       "      <td>5</td>\n",
       "      <td>4</td>\n",
       "    </tr>\n",
       "    <tr>\n",
       "      <th>4</th>\n",
       "      <td>5.30</td>\n",
       "      <td>-73.968095</td>\n",
       "      <td>40.768008</td>\n",
       "      <td>-73.956655</td>\n",
       "      <td>40.783762</td>\n",
       "      <td>1</td>\n",
       "      <td>1.999157</td>\n",
       "      <td>2010</td>\n",
       "      <td>3</td>\n",
       "      <td>9</td>\n",
       "      <td>1</td>\n",
       "      <td>7</td>\n",
       "    </tr>\n",
       "    <tr>\n",
       "      <th>...</th>\n",
       "      <td>...</td>\n",
       "      <td>...</td>\n",
       "      <td>...</td>\n",
       "      <td>...</td>\n",
       "      <td>...</td>\n",
       "      <td>...</td>\n",
       "      <td>...</td>\n",
       "      <td>...</td>\n",
       "      <td>...</td>\n",
       "      <td>...</td>\n",
       "      <td>...</td>\n",
       "      <td>...</td>\n",
       "    </tr>\n",
       "    <tr>\n",
       "      <th>199995</th>\n",
       "      <td>8.90</td>\n",
       "      <td>-73.989939</td>\n",
       "      <td>40.729423</td>\n",
       "      <td>-73.990683</td>\n",
       "      <td>40.758504</td>\n",
       "      <td>1</td>\n",
       "      <td>3.234267</td>\n",
       "      <td>2011</td>\n",
       "      <td>3</td>\n",
       "      <td>24</td>\n",
       "      <td>3</td>\n",
       "      <td>1</td>\n",
       "    </tr>\n",
       "    <tr>\n",
       "      <th>199996</th>\n",
       "      <td>14.10</td>\n",
       "      <td>-74.005021</td>\n",
       "      <td>40.739912</td>\n",
       "      <td>-73.961319</td>\n",
       "      <td>40.766701</td>\n",
       "      <td>3</td>\n",
       "      <td>4.735418</td>\n",
       "      <td>2012</td>\n",
       "      <td>6</td>\n",
       "      <td>20</td>\n",
       "      <td>2</td>\n",
       "      <td>21</td>\n",
       "    </tr>\n",
       "    <tr>\n",
       "      <th>199997</th>\n",
       "      <td>6.90</td>\n",
       "      <td>-73.993203</td>\n",
       "      <td>40.752092</td>\n",
       "      <td>-74.003508</td>\n",
       "      <td>40.732282</td>\n",
       "      <td>1</td>\n",
       "      <td>2.367682</td>\n",
       "      <td>2012</td>\n",
       "      <td>8</td>\n",
       "      <td>4</td>\n",
       "      <td>5</td>\n",
       "      <td>19</td>\n",
       "    </tr>\n",
       "    <tr>\n",
       "      <th>199998</th>\n",
       "      <td>18.00</td>\n",
       "      <td>-73.994411</td>\n",
       "      <td>40.750884</td>\n",
       "      <td>-73.978532</td>\n",
       "      <td>40.785599</td>\n",
       "      <td>1</td>\n",
       "      <td>4.085196</td>\n",
       "      <td>2013</td>\n",
       "      <td>11</td>\n",
       "      <td>26</td>\n",
       "      <td>1</td>\n",
       "      <td>18</td>\n",
       "    </tr>\n",
       "    <tr>\n",
       "      <th>199999</th>\n",
       "      <td>42.83</td>\n",
       "      <td>-74.001656</td>\n",
       "      <td>40.730495</td>\n",
       "      <td>-73.865578</td>\n",
       "      <td>40.770958</td>\n",
       "      <td>4</td>\n",
       "      <td>12.314094</td>\n",
       "      <td>2015</td>\n",
       "      <td>1</td>\n",
       "      <td>6</td>\n",
       "      <td>1</td>\n",
       "      <td>10</td>\n",
       "    </tr>\n",
       "  </tbody>\n",
       "</table>\n",
       "<p>200000 rows × 12 columns</p>\n",
       "</div>"
      ],
      "text/plain": [
       "        fare_amount  pickup_longitude  pickup_latitude  dropoff_longitude  \\\n",
       "0              4.50        -73.844311        40.721319         -73.841610   \n",
       "1             16.90        -74.016048        40.711303         -73.979268   \n",
       "2              5.70        -73.982738        40.761270         -73.991242   \n",
       "3              7.70        -73.987130        40.733143         -73.991567   \n",
       "4              5.30        -73.968095        40.768008         -73.956655   \n",
       "...             ...               ...              ...                ...   \n",
       "199995         8.90        -73.989939        40.729423         -73.990683   \n",
       "199996        14.10        -74.005021        40.739912         -73.961319   \n",
       "199997         6.90        -73.993203        40.752092         -74.003508   \n",
       "199998        18.00        -73.994411        40.750884         -73.978532   \n",
       "199999        42.83        -74.001656        40.730495         -73.865578   \n",
       "\n",
       "        dropoff_latitude  passenger_count  distance_in_km  Year  Month  Date  \\\n",
       "0              40.712278                1        1.030764  2009      6    15   \n",
       "1              40.782004                1        8.450134  2010      1     5   \n",
       "2              40.750562                2        1.389525  2011      8    18   \n",
       "3              40.758092                1        2.799270  2012      4    21   \n",
       "4              40.783762                1        1.999157  2010      3     9   \n",
       "...                  ...              ...             ...   ...    ...   ...   \n",
       "199995         40.758504                1        3.234267  2011      3    24   \n",
       "199996         40.766701                3        4.735418  2012      6    20   \n",
       "199997         40.732282                1        2.367682  2012      8     4   \n",
       "199998         40.785599                1        4.085196  2013     11    26   \n",
       "199999         40.770958                4       12.314094  2015      1     6   \n",
       "\n",
       "        Day of Week  Hour  \n",
       "0                 0    17  \n",
       "1                 1    16  \n",
       "2                 3     0  \n",
       "3                 5     4  \n",
       "4                 1     7  \n",
       "...             ...   ...  \n",
       "199995            3     1  \n",
       "199996            2    21  \n",
       "199997            5    19  \n",
       "199998            1    18  \n",
       "199999            1    10  \n",
       "\n",
       "[200000 rows x 12 columns]"
      ]
     },
     "execution_count": 18,
     "metadata": {},
     "output_type": "execute_result"
    }
   ],
   "source": [
    "df.fillna(method ='pad') #Filled all null values with previous one"
   ]
  },
  {
   "cell_type": "code",
   "execution_count": 19,
   "metadata": {
    "execution": {
     "iopub.execute_input": "2021-11-08T16:59:15.687860Z",
     "iopub.status.busy": "2021-11-08T16:59:15.687363Z",
     "iopub.status.idle": "2021-11-08T16:59:15.698080Z",
     "shell.execute_reply": "2021-11-08T16:59:15.697071Z",
     "shell.execute_reply.started": "2021-11-08T16:59:15.687825Z"
    }
   },
   "outputs": [
    {
     "data": {
      "text/plain": [
       "fare_amount          0\n",
       "pickup_longitude     0\n",
       "pickup_latitude      0\n",
       "dropoff_longitude    1\n",
       "dropoff_latitude     1\n",
       "passenger_count      0\n",
       "distance_in_km       1\n",
       "Year                 0\n",
       "Month                0\n",
       "Date                 0\n",
       "Day of Week          0\n",
       "Hour                 0\n",
       "dtype: int64"
      ]
     },
     "execution_count": 19,
     "metadata": {},
     "output_type": "execute_result"
    }
   ],
   "source": [
    "df.isnull().sum() #checking columns which has null "
   ]
  },
  {
   "cell_type": "code",
   "execution_count": 20,
   "metadata": {
    "execution": {
     "iopub.execute_input": "2021-11-08T16:59:15.700442Z",
     "iopub.status.busy": "2021-11-08T16:59:15.699745Z",
     "iopub.status.idle": "2021-11-08T16:59:15.714527Z",
     "shell.execute_reply": "2021-11-08T16:59:15.713701Z",
     "shell.execute_reply.started": "2021-11-08T16:59:15.700392Z"
    }
   },
   "outputs": [],
   "source": [
    "df.fillna(df.mean(),inplace=True)"
   ]
  },
  {
   "cell_type": "code",
   "execution_count": 21,
   "metadata": {
    "execution": {
     "iopub.execute_input": "2021-11-08T16:59:15.717357Z",
     "iopub.status.busy": "2021-11-08T16:59:15.716333Z",
     "iopub.status.idle": "2021-11-08T16:59:15.728917Z",
     "shell.execute_reply": "2021-11-08T16:59:15.727503Z",
     "shell.execute_reply.started": "2021-11-08T16:59:15.717288Z"
    }
   },
   "outputs": [
    {
     "data": {
      "text/plain": [
       "fare_amount          0\n",
       "pickup_longitude     0\n",
       "pickup_latitude      0\n",
       "dropoff_longitude    0\n",
       "dropoff_latitude     0\n",
       "passenger_count      0\n",
       "distance_in_km       0\n",
       "Year                 0\n",
       "Month                0\n",
       "Date                 0\n",
       "Day of Week          0\n",
       "Hour                 0\n",
       "dtype: int64"
      ]
     },
     "execution_count": 21,
     "metadata": {},
     "output_type": "execute_result"
    }
   ],
   "source": [
    "df.isnull().sum() #checking columns which has null "
   ]
  },
  {
   "cell_type": "code",
   "execution_count": 22,
   "metadata": {
    "execution": {
     "iopub.execute_input": "2021-11-08T16:59:15.731252Z",
     "iopub.status.busy": "2021-11-08T16:59:15.730689Z",
     "iopub.status.idle": "2021-11-08T16:59:15.769574Z",
     "shell.execute_reply": "2021-11-08T16:59:15.768695Z",
     "shell.execute_reply.started": "2021-11-08T16:59:15.731216Z"
    }
   },
   "outputs": [
    {
     "data": {
      "text/html": [
       "<div>\n",
       "<style scoped>\n",
       "    .dataframe tbody tr th:only-of-type {\n",
       "        vertical-align: middle;\n",
       "    }\n",
       "\n",
       "    .dataframe tbody tr th {\n",
       "        vertical-align: top;\n",
       "    }\n",
       "\n",
       "    .dataframe thead th {\n",
       "        text-align: right;\n",
       "    }\n",
       "</style>\n",
       "<table border=\"1\" class=\"dataframe\">\n",
       "  <thead>\n",
       "    <tr style=\"text-align: right;\">\n",
       "      <th></th>\n",
       "      <th>fare_amount</th>\n",
       "      <th>pickup_longitude</th>\n",
       "      <th>pickup_latitude</th>\n",
       "      <th>dropoff_longitude</th>\n",
       "      <th>dropoff_latitude</th>\n",
       "      <th>passenger_count</th>\n",
       "      <th>distance_in_km</th>\n",
       "      <th>Year</th>\n",
       "      <th>Month</th>\n",
       "      <th>Date</th>\n",
       "      <th>Day of Week</th>\n",
       "      <th>Hour</th>\n",
       "    </tr>\n",
       "  </thead>\n",
       "  <tbody>\n",
       "    <tr>\n",
       "      <th>0</th>\n",
       "      <td>4.50</td>\n",
       "      <td>-73.844311</td>\n",
       "      <td>40.721319</td>\n",
       "      <td>-73.841610</td>\n",
       "      <td>40.712278</td>\n",
       "      <td>1</td>\n",
       "      <td>1.030764</td>\n",
       "      <td>2009</td>\n",
       "      <td>6</td>\n",
       "      <td>15</td>\n",
       "      <td>0</td>\n",
       "      <td>17</td>\n",
       "    </tr>\n",
       "    <tr>\n",
       "      <th>1</th>\n",
       "      <td>16.90</td>\n",
       "      <td>-74.016048</td>\n",
       "      <td>40.711303</td>\n",
       "      <td>-73.979268</td>\n",
       "      <td>40.782004</td>\n",
       "      <td>1</td>\n",
       "      <td>8.450134</td>\n",
       "      <td>2010</td>\n",
       "      <td>1</td>\n",
       "      <td>5</td>\n",
       "      <td>1</td>\n",
       "      <td>16</td>\n",
       "    </tr>\n",
       "    <tr>\n",
       "      <th>2</th>\n",
       "      <td>5.70</td>\n",
       "      <td>-73.982738</td>\n",
       "      <td>40.761270</td>\n",
       "      <td>-73.991242</td>\n",
       "      <td>40.750562</td>\n",
       "      <td>2</td>\n",
       "      <td>1.389525</td>\n",
       "      <td>2011</td>\n",
       "      <td>8</td>\n",
       "      <td>18</td>\n",
       "      <td>3</td>\n",
       "      <td>0</td>\n",
       "    </tr>\n",
       "    <tr>\n",
       "      <th>3</th>\n",
       "      <td>7.70</td>\n",
       "      <td>-73.987130</td>\n",
       "      <td>40.733143</td>\n",
       "      <td>-73.991567</td>\n",
       "      <td>40.758092</td>\n",
       "      <td>1</td>\n",
       "      <td>2.799270</td>\n",
       "      <td>2012</td>\n",
       "      <td>4</td>\n",
       "      <td>21</td>\n",
       "      <td>5</td>\n",
       "      <td>4</td>\n",
       "    </tr>\n",
       "    <tr>\n",
       "      <th>4</th>\n",
       "      <td>5.30</td>\n",
       "      <td>-73.968095</td>\n",
       "      <td>40.768008</td>\n",
       "      <td>-73.956655</td>\n",
       "      <td>40.783762</td>\n",
       "      <td>1</td>\n",
       "      <td>1.999157</td>\n",
       "      <td>2010</td>\n",
       "      <td>3</td>\n",
       "      <td>9</td>\n",
       "      <td>1</td>\n",
       "      <td>7</td>\n",
       "    </tr>\n",
       "    <tr>\n",
       "      <th>...</th>\n",
       "      <td>...</td>\n",
       "      <td>...</td>\n",
       "      <td>...</td>\n",
       "      <td>...</td>\n",
       "      <td>...</td>\n",
       "      <td>...</td>\n",
       "      <td>...</td>\n",
       "      <td>...</td>\n",
       "      <td>...</td>\n",
       "      <td>...</td>\n",
       "      <td>...</td>\n",
       "      <td>...</td>\n",
       "    </tr>\n",
       "    <tr>\n",
       "      <th>199995</th>\n",
       "      <td>8.90</td>\n",
       "      <td>-73.989939</td>\n",
       "      <td>40.729423</td>\n",
       "      <td>-73.990683</td>\n",
       "      <td>40.758504</td>\n",
       "      <td>1</td>\n",
       "      <td>3.234267</td>\n",
       "      <td>2011</td>\n",
       "      <td>3</td>\n",
       "      <td>24</td>\n",
       "      <td>3</td>\n",
       "      <td>1</td>\n",
       "    </tr>\n",
       "    <tr>\n",
       "      <th>199996</th>\n",
       "      <td>14.10</td>\n",
       "      <td>-74.005021</td>\n",
       "      <td>40.739912</td>\n",
       "      <td>-73.961319</td>\n",
       "      <td>40.766701</td>\n",
       "      <td>3</td>\n",
       "      <td>4.735418</td>\n",
       "      <td>2012</td>\n",
       "      <td>6</td>\n",
       "      <td>20</td>\n",
       "      <td>2</td>\n",
       "      <td>21</td>\n",
       "    </tr>\n",
       "    <tr>\n",
       "      <th>199997</th>\n",
       "      <td>6.90</td>\n",
       "      <td>-73.993203</td>\n",
       "      <td>40.752092</td>\n",
       "      <td>-74.003508</td>\n",
       "      <td>40.732282</td>\n",
       "      <td>1</td>\n",
       "      <td>2.367682</td>\n",
       "      <td>2012</td>\n",
       "      <td>8</td>\n",
       "      <td>4</td>\n",
       "      <td>5</td>\n",
       "      <td>19</td>\n",
       "    </tr>\n",
       "    <tr>\n",
       "      <th>199998</th>\n",
       "      <td>18.00</td>\n",
       "      <td>-73.994411</td>\n",
       "      <td>40.750884</td>\n",
       "      <td>-73.978532</td>\n",
       "      <td>40.785599</td>\n",
       "      <td>1</td>\n",
       "      <td>4.085196</td>\n",
       "      <td>2013</td>\n",
       "      <td>11</td>\n",
       "      <td>26</td>\n",
       "      <td>1</td>\n",
       "      <td>18</td>\n",
       "    </tr>\n",
       "    <tr>\n",
       "      <th>199999</th>\n",
       "      <td>42.83</td>\n",
       "      <td>-74.001656</td>\n",
       "      <td>40.730495</td>\n",
       "      <td>-73.865578</td>\n",
       "      <td>40.770958</td>\n",
       "      <td>4</td>\n",
       "      <td>12.314094</td>\n",
       "      <td>2015</td>\n",
       "      <td>1</td>\n",
       "      <td>6</td>\n",
       "      <td>1</td>\n",
       "      <td>10</td>\n",
       "    </tr>\n",
       "  </tbody>\n",
       "</table>\n",
       "<p>200000 rows × 12 columns</p>\n",
       "</div>"
      ],
      "text/plain": [
       "        fare_amount  pickup_longitude  pickup_latitude  dropoff_longitude  \\\n",
       "0              4.50        -73.844311        40.721319         -73.841610   \n",
       "1             16.90        -74.016048        40.711303         -73.979268   \n",
       "2              5.70        -73.982738        40.761270         -73.991242   \n",
       "3              7.70        -73.987130        40.733143         -73.991567   \n",
       "4              5.30        -73.968095        40.768008         -73.956655   \n",
       "...             ...               ...              ...                ...   \n",
       "199995         8.90        -73.989939        40.729423         -73.990683   \n",
       "199996        14.10        -74.005021        40.739912         -73.961319   \n",
       "199997         6.90        -73.993203        40.752092         -74.003508   \n",
       "199998        18.00        -73.994411        40.750884         -73.978532   \n",
       "199999        42.83        -74.001656        40.730495         -73.865578   \n",
       "\n",
       "        dropoff_latitude  passenger_count  distance_in_km  Year  Month  Date  \\\n",
       "0              40.712278                1        1.030764  2009      6    15   \n",
       "1              40.782004                1        8.450134  2010      1     5   \n",
       "2              40.750562                2        1.389525  2011      8    18   \n",
       "3              40.758092                1        2.799270  2012      4    21   \n",
       "4              40.783762                1        1.999157  2010      3     9   \n",
       "...                  ...              ...             ...   ...    ...   ...   \n",
       "199995         40.758504                1        3.234267  2011      3    24   \n",
       "199996         40.766701                3        4.735418  2012      6    20   \n",
       "199997         40.732282                1        2.367682  2012      8     4   \n",
       "199998         40.785599                1        4.085196  2013     11    26   \n",
       "199999         40.770958                4       12.314094  2015      1     6   \n",
       "\n",
       "        Day of Week  Hour  \n",
       "0                 0    17  \n",
       "1                 1    16  \n",
       "2                 3     0  \n",
       "3                 5     4  \n",
       "4                 1     7  \n",
       "...             ...   ...  \n",
       "199995            3     1  \n",
       "199996            2    21  \n",
       "199997            5    19  \n",
       "199998            1    18  \n",
       "199999            1    10  \n",
       "\n",
       "[200000 rows x 12 columns]"
      ]
     },
     "execution_count": 22,
     "metadata": {},
     "output_type": "execute_result"
    }
   ],
   "source": [
    "df.dropna()"
   ]
  },
  {
   "cell_type": "raw",
   "metadata": {},
   "source": [
    "Plotted Scatter plots to remove outliers"
   ]
  },
  {
   "cell_type": "code",
   "execution_count": 23,
   "metadata": {
    "execution": {
     "iopub.execute_input": "2021-11-08T16:59:15.773101Z",
     "iopub.status.busy": "2021-11-08T16:59:15.772877Z",
     "iopub.status.idle": "2021-11-08T16:59:16.327744Z",
     "shell.execute_reply": "2021-11-08T16:59:16.326535Z",
     "shell.execute_reply.started": "2021-11-08T16:59:15.773074Z"
    }
   },
   "outputs": [
    {
     "data": {
      "image/png": "[encoded data removed]",
      "text/plain": [
       "<Figure size 432x288 with 1 Axes>"
      ]
     },
     "metadata": {
      "needs_background": "light"
     },
     "output_type": "display_data"
    }
   ],
   "source": [
    "import matplotlib.pyplot as plt\n",
    "plt.scatter(df['distance_in_km'], df['fare_amount'])\n",
    "plt.show()"
   ]
  },
  {
   "cell_type": "code",
   "execution_count": 24,
   "metadata": {},
   "outputs": [
    {
     "data": {
      "image/png": "[encoded data removed]",
      "text/plain": [
       "<Figure size 432x288 with 1 Axes>"
      ]
     },
     "metadata": {
      "needs_background": "light"
     },
     "output_type": "display_data"
    }
   ],
   "source": [
    "plt.scatter(df['pickup_longitude'], df['fare_amount'])\n",
    "plt.show()"
   ]
  },
  {
   "cell_type": "code",
   "execution_count": 25,
   "metadata": {},
   "outputs": [
    {
     "data": {
      "image/png": "[encoded data removed]",
      "text/plain": [
       "<Figure size 432x288 with 1 Axes>"
      ]
     },
     "metadata": {
      "needs_background": "light"
     },
     "output_type": "display_data"
    }
   ],
   "source": [
    "plt.scatter(df['dropoff_longitude'], df['fare_amount'])\n",
    "plt.show()"
   ]
  },
  {
   "cell_type": "code",
   "execution_count": 26,
   "metadata": {},
   "outputs": [
    {
     "data": {
      "image/png": "[encoded data removed]",
      "text/plain": [
       "<Figure size 432x288 with 1 Axes>"
      ]
     },
     "metadata": {
      "needs_background": "light"
     },
     "output_type": "display_data"
    }
   ],
   "source": [
    "plt.scatter(df['pickup_latitude'], df['fare_amount'])\n",
    "plt.show()"
   ]
  },
  {
   "cell_type": "code",
   "execution_count": 27,
   "metadata": {},
   "outputs": [
    {
     "data": {
      "image/png": "[encoded data removed]",
      "text/plain": [
       "<Figure size 432x288 with 1 Axes>"
      ]
     },
     "metadata": {
      "needs_background": "light"
     },
     "output_type": "display_data"
    }
   ],
   "source": [
    "plt.scatter(df['dropoff_latitude'], df['fare_amount'])\n",
    "plt.show()"
   ]
  },
  {
   "cell_type": "code",
   "execution_count": 28,
   "metadata": {},
   "outputs": [
    {
     "data": {
      "image/png": "[encoded data removed]",
      "text/plain": [
       "<Figure size 432x288 with 1 Axes>"
      ]
     },
     "metadata": {
      "needs_background": "light"
     },
     "output_type": "display_data"
    }
   ],
   "source": [
    "plt.scatter(df['passenger_count'], df['fare_amount'])\n",
    "plt.show()"
   ]
  },
  {
   "cell_type": "code",
   "execution_count": 29,
   "metadata": {},
   "outputs": [
    {
     "data": {
      "text/plain": [
       "(8680.954459086115, 0.0)"
      ]
     },
     "execution_count": 29,
     "metadata": {},
     "output_type": "execute_result"
    }
   ],
   "source": [
    "df['distance_in_km'].max(),df['distance_in_km'].min()"
   ]
  },
  {
   "cell_type": "code",
   "execution_count": 30,
   "metadata": {
    "execution": {
     "iopub.execute_input": "2021-11-08T16:59:17.278935Z",
     "iopub.status.busy": "2021-11-08T16:59:17.278702Z",
     "iopub.status.idle": "2021-11-08T16:59:17.286652Z",
     "shell.execute_reply": "2021-11-08T16:59:17.285405Z",
     "shell.execute_reply.started": "2021-11-08T16:59:17.278908Z"
    }
   },
   "outputs": [
    {
     "data": {
      "text/plain": [
       "(8680.954459086115, 0.0)"
      ]
     },
     "execution_count": 30,
     "metadata": {},
     "output_type": "execute_result"
    }
   ],
   "source": [
    "df['distance_in_km'].max(),df['distance_in_km'].min()"
   ]
  },
  {
   "cell_type": "code",
   "execution_count": 31,
   "metadata": {
    "execution": {
     "iopub.execute_input": "2021-11-08T16:59:17.324847Z",
     "iopub.status.busy": "2021-11-08T16:59:17.323738Z",
     "iopub.status.idle": "2021-11-08T16:59:17.334733Z",
     "shell.execute_reply": "2021-11-08T16:59:17.333656Z",
     "shell.execute_reply.started": "2021-11-08T16:59:17.324795Z"
    }
   },
   "outputs": [],
   "source": [
    "def remove_outliers(df):\n",
    "    return df[(df['fare_amount'] >= 1.) & \n",
    "              (df['fare_amount'] <= 500.) &\n",
    "              (df['pickup_longitude'] >= -75) & \n",
    "              (df['pickup_longitude'] <= -72) & \n",
    "              (df['dropoff_longitude'] >= -75) & \n",
    "              (df['dropoff_longitude'] <= -72) & \n",
    "              (df['pickup_latitude'] >= 40) & \n",
    "              (df['pickup_latitude'] <= 42) & \n",
    "              (df['dropoff_latitude'] >=40) & \n",
    "              (df['dropoff_latitude'] <= 42) & \n",
    "              (df['passenger_count'] >= 1) & \n",
    "              (df['passenger_count'] <= 6)]"
   ]
  },
  {
   "cell_type": "code",
   "execution_count": 32,
   "metadata": {
    "execution": {
     "iopub.execute_input": "2021-11-08T16:59:17.337143Z",
     "iopub.status.busy": "2021-11-08T16:59:17.336856Z",
     "iopub.status.idle": "2021-11-08T16:59:17.361356Z",
     "shell.execute_reply": "2021-11-08T16:59:17.360351Z",
     "shell.execute_reply.started": "2021-11-08T16:59:17.337112Z"
    }
   },
   "outputs": [],
   "source": [
    "df = remove_outliers(df)"
   ]
  },
  {
   "cell_type": "code",
   "execution_count": 33,
   "metadata": {
    "execution": {
     "iopub.execute_input": "2021-11-08T16:59:17.363150Z",
     "iopub.status.busy": "2021-11-08T16:59:17.362884Z",
     "iopub.status.idle": "2021-11-08T16:59:17.378656Z",
     "shell.execute_reply": "2021-11-08T16:59:17.377780Z",
     "shell.execute_reply.started": "2021-11-08T16:59:17.363120Z"
    }
   },
   "outputs": [
    {
     "data": {
      "text/plain": [
       "<bound method NDFrame.head of         fare_amount  pickup_longitude  pickup_latitude  dropoff_longitude  \\\n",
       "0              4.50        -73.844311        40.721319         -73.841610   \n",
       "1             16.90        -74.016048        40.711303         -73.979268   \n",
       "2              5.70        -73.982738        40.761270         -73.991242   \n",
       "3              7.70        -73.987130        40.733143         -73.991567   \n",
       "4              5.30        -73.968095        40.768008         -73.956655   \n",
       "...             ...               ...              ...                ...   \n",
       "199995         8.90        -73.989939        40.729423         -73.990683   \n",
       "199996        14.10        -74.005021        40.739912         -73.961319   \n",
       "199997         6.90        -73.993203        40.752092         -74.003508   \n",
       "199998        18.00        -73.994411        40.750884         -73.978532   \n",
       "199999        42.83        -74.001656        40.730495         -73.865578   \n",
       "\n",
       "        dropoff_latitude  passenger_count  distance_in_km  Year  Month  Date  \\\n",
       "0              40.712278                1        1.030764  2009      6    15   \n",
       "1              40.782004                1        8.450134  2010      1     5   \n",
       "2              40.750562                2        1.389525  2011      8    18   \n",
       "3              40.758092                1        2.799270  2012      4    21   \n",
       "4              40.783762                1        1.999157  2010      3     9   \n",
       "...                  ...              ...             ...   ...    ...   ...   \n",
       "199995         40.758504                1        3.234267  2011      3    24   \n",
       "199996         40.766701                3        4.735418  2012      6    20   \n",
       "199997         40.732282                1        2.367682  2012      8     4   \n",
       "199998         40.785599                1        4.085196  2013     11    26   \n",
       "199999         40.770958                4       12.314094  2015      1     6   \n",
       "\n",
       "        Day of Week  Hour  \n",
       "0                 0    17  \n",
       "1                 1    16  \n",
       "2                 3     0  \n",
       "3                 5     4  \n",
       "4                 1     7  \n",
       "...             ...   ...  \n",
       "199995            3     1  \n",
       "199996            2    21  \n",
       "199997            5    19  \n",
       "199998            1    18  \n",
       "199999            1    10  \n",
       "\n",
       "[195133 rows x 12 columns]>"
      ]
     },
     "execution_count": 33,
     "metadata": {},
     "output_type": "execute_result"
    }
   ],
   "source": [
    "column_maxes = df.max()\n",
    "df_max = column_maxes.max()\n",
    "ndf = df\n",
    "ndf.head"
   ]
  },
  {
   "cell_type": "code",
   "execution_count": 34,
   "metadata": {
    "execution": {
     "iopub.execute_input": "2021-11-08T16:59:17.387742Z",
     "iopub.status.busy": "2021-11-08T16:59:17.387275Z",
     "iopub.status.idle": "2021-11-08T16:59:17.472911Z",
     "shell.execute_reply": "2021-11-08T16:59:17.472092Z",
     "shell.execute_reply.started": "2021-11-08T16:59:17.387703Z"
    }
   },
   "outputs": [
    {
     "data": {
      "text/plain": [
       "<bound method NDFrame._add_numeric_operations.<locals>.max of 0          4.50\n",
       "1         16.90\n",
       "2          5.70\n",
       "3          7.70\n",
       "4          5.30\n",
       "          ...  \n",
       "199995     8.90\n",
       "199996    14.10\n",
       "199997     6.90\n",
       "199998    18.00\n",
       "199999    42.83\n",
       "Name: fare_amount, Length: 195133, dtype: float64>"
      ]
     },
     "execution_count": 34,
     "metadata": {},
     "output_type": "execute_result"
    }
   ],
   "source": [
    "X=np.array(ndf.drop(['fare_amount'],axis=1))\n",
    "y=np.array(ndf['fare_amount'])\n",
    "X=preprocessing.scale(X)\n",
    "X.shape,y.shape\n",
    "ndf['fare_amount'].max"
   ]
  },
  {
   "cell_type": "code",
   "execution_count": 35,
   "metadata": {
    "execution": {
     "iopub.execute_input": "2021-11-08T16:59:17.474376Z",
     "iopub.status.busy": "2021-11-08T16:59:17.474155Z",
     "iopub.status.idle": "2021-11-08T16:59:17.568735Z",
     "shell.execute_reply": "2021-11-08T16:59:17.567777Z",
     "shell.execute_reply.started": "2021-11-08T16:59:17.474348Z"
    }
   },
   "outputs": [],
   "source": [
    "X=np.array(ndf.drop(['fare_amount'],axis=1))\n",
    "y=np.array(ndf['fare_amount'])\n",
    "X=preprocessing.scale(X)\n"
   ]
  },
  {
   "cell_type": "code",
   "execution_count": 36,
   "metadata": {},
   "outputs": [
    {
     "data": {
      "text/plain": [
       "(9914, 11)"
      ]
     },
     "execution_count": 36,
     "metadata": {},
     "output_type": "execute_result"
    }
   ],
   "source": [
    "df1=preprocessing.scale(df1)\n",
    "df1.shape"
   ]
  },
  {
   "cell_type": "code",
   "execution_count": 37,
   "metadata": {
    "execution": {
     "iopub.execute_input": "2021-11-08T16:59:17.571001Z",
     "iopub.status.busy": "2021-11-08T16:59:17.570471Z",
     "iopub.status.idle": "2021-11-08T16:59:17.604323Z",
     "shell.execute_reply": "2021-11-08T16:59:17.603351Z",
     "shell.execute_reply.started": "2021-11-08T16:59:17.570964Z"
    }
   },
   "outputs": [],
   "source": [
    "X_train, X_test, y_train, y_test = train_test_split(X, y, test_size=0.20)"
   ]
  },
  {
   "cell_type": "code",
   "execution_count": 38,
   "metadata": {
    "execution": {
     "iopub.execute_input": "2021-11-08T16:59:17.606429Z",
     "iopub.status.busy": "2021-11-08T16:59:17.605706Z",
     "iopub.status.idle": "2021-11-08T16:59:17.653929Z",
     "shell.execute_reply": "2021-11-08T16:59:17.652607Z",
     "shell.execute_reply.started": "2021-11-08T16:59:17.606386Z"
    }
   },
   "outputs": [
    {
     "data": {
      "text/plain": [
       "LinearRegression()"
      ]
     },
     "execution_count": 38,
     "metadata": {},
     "output_type": "execute_result"
    }
   ],
   "source": [
    "clf = LinearRegression()\n",
    "clf.fit(X_train, y_train)\n"
   ]
  },
  {
   "cell_type": "code",
   "execution_count": 39,
   "metadata": {
    "execution": {
     "iopub.execute_input": "2021-11-08T16:59:17.656767Z",
     "iopub.status.busy": "2021-11-08T16:59:17.656034Z",
     "iopub.status.idle": "2021-11-08T16:59:17.674516Z",
     "shell.execute_reply": "2021-11-08T16:59:17.673724Z",
     "shell.execute_reply.started": "2021-11-08T16:59:17.656722Z"
    }
   },
   "outputs": [
    {
     "data": {
      "text/html": [
       "<div>\n",
       "<style scoped>\n",
       "    .dataframe tbody tr th:only-of-type {\n",
       "        vertical-align: middle;\n",
       "    }\n",
       "\n",
       "    .dataframe tbody tr th {\n",
       "        vertical-align: top;\n",
       "    }\n",
       "\n",
       "    .dataframe thead th {\n",
       "        text-align: right;\n",
       "    }\n",
       "</style>\n",
       "<table border=\"1\" class=\"dataframe\">\n",
       "  <thead>\n",
       "    <tr style=\"text-align: right;\">\n",
       "      <th></th>\n",
       "      <th>fare_amount</th>\n",
       "      <th>pickup_longitude</th>\n",
       "      <th>pickup_latitude</th>\n",
       "      <th>dropoff_longitude</th>\n",
       "      <th>dropoff_latitude</th>\n",
       "      <th>passenger_count</th>\n",
       "      <th>distance_in_km</th>\n",
       "      <th>Year</th>\n",
       "      <th>Month</th>\n",
       "      <th>Date</th>\n",
       "      <th>Day of Week</th>\n",
       "      <th>Hour</th>\n",
       "    </tr>\n",
       "  </thead>\n",
       "  <tbody>\n",
       "    <tr>\n",
       "      <th>0</th>\n",
       "      <td>4.5</td>\n",
       "      <td>-73.844311</td>\n",
       "      <td>40.721319</td>\n",
       "      <td>-73.841610</td>\n",
       "      <td>40.712278</td>\n",
       "      <td>1</td>\n",
       "      <td>1.030764</td>\n",
       "      <td>2009</td>\n",
       "      <td>6</td>\n",
       "      <td>15</td>\n",
       "      <td>0</td>\n",
       "      <td>17</td>\n",
       "    </tr>\n",
       "    <tr>\n",
       "      <th>1</th>\n",
       "      <td>16.9</td>\n",
       "      <td>-74.016048</td>\n",
       "      <td>40.711303</td>\n",
       "      <td>-73.979268</td>\n",
       "      <td>40.782004</td>\n",
       "      <td>1</td>\n",
       "      <td>8.450134</td>\n",
       "      <td>2010</td>\n",
       "      <td>1</td>\n",
       "      <td>5</td>\n",
       "      <td>1</td>\n",
       "      <td>16</td>\n",
       "    </tr>\n",
       "    <tr>\n",
       "      <th>2</th>\n",
       "      <td>5.7</td>\n",
       "      <td>-73.982738</td>\n",
       "      <td>40.761270</td>\n",
       "      <td>-73.991242</td>\n",
       "      <td>40.750562</td>\n",
       "      <td>2</td>\n",
       "      <td>1.389525</td>\n",
       "      <td>2011</td>\n",
       "      <td>8</td>\n",
       "      <td>18</td>\n",
       "      <td>3</td>\n",
       "      <td>0</td>\n",
       "    </tr>\n",
       "    <tr>\n",
       "      <th>3</th>\n",
       "      <td>7.7</td>\n",
       "      <td>-73.987130</td>\n",
       "      <td>40.733143</td>\n",
       "      <td>-73.991567</td>\n",
       "      <td>40.758092</td>\n",
       "      <td>1</td>\n",
       "      <td>2.799270</td>\n",
       "      <td>2012</td>\n",
       "      <td>4</td>\n",
       "      <td>21</td>\n",
       "      <td>5</td>\n",
       "      <td>4</td>\n",
       "    </tr>\n",
       "    <tr>\n",
       "      <th>4</th>\n",
       "      <td>5.3</td>\n",
       "      <td>-73.968095</td>\n",
       "      <td>40.768008</td>\n",
       "      <td>-73.956655</td>\n",
       "      <td>40.783762</td>\n",
       "      <td>1</td>\n",
       "      <td>1.999157</td>\n",
       "      <td>2010</td>\n",
       "      <td>3</td>\n",
       "      <td>9</td>\n",
       "      <td>1</td>\n",
       "      <td>7</td>\n",
       "    </tr>\n",
       "  </tbody>\n",
       "</table>\n",
       "</div>"
      ],
      "text/plain": [
       "   fare_amount  pickup_longitude  pickup_latitude  dropoff_longitude  \\\n",
       "0          4.5        -73.844311        40.721319         -73.841610   \n",
       "1         16.9        -74.016048        40.711303         -73.979268   \n",
       "2          5.7        -73.982738        40.761270         -73.991242   \n",
       "3          7.7        -73.987130        40.733143         -73.991567   \n",
       "4          5.3        -73.968095        40.768008         -73.956655   \n",
       "\n",
       "   dropoff_latitude  passenger_count  distance_in_km  Year  Month  Date  \\\n",
       "0         40.712278                1        1.030764  2009      6    15   \n",
       "1         40.782004                1        8.450134  2010      1     5   \n",
       "2         40.750562                2        1.389525  2011      8    18   \n",
       "3         40.758092                1        2.799270  2012      4    21   \n",
       "4         40.783762                1        1.999157  2010      3     9   \n",
       "\n",
       "   Day of Week  Hour  \n",
       "0            0    17  \n",
       "1            1    16  \n",
       "2            3     0  \n",
       "3            5     4  \n",
       "4            1     7  "
      ]
     },
     "execution_count": 39,
     "metadata": {},
     "output_type": "execute_result"
    }
   ],
   "source": [
    "ndf.head()"
   ]
  },
  {
   "cell_type": "code",
   "execution_count": 40,
   "metadata": {
    "execution": {
     "iopub.execute_input": "2021-11-08T16:59:17.676461Z",
     "iopub.status.busy": "2021-11-08T16:59:17.676091Z",
     "iopub.status.idle": "2021-11-08T16:59:17.692984Z",
     "shell.execute_reply": "2021-11-08T16:59:17.692146Z",
     "shell.execute_reply.started": "2021-11-08T16:59:17.676419Z"
    }
   },
   "outputs": [
    {
     "name": "stdout",
     "output_type": "stream",
     "text": [
      "[10.44538645 11.32821995  5.66247187 ... 45.75656389 21.63721866\n",
      "  7.83694022]\n",
      "[13.3621779   9.9703148  11.15469393 ... 11.68136303  9.37138772\n",
      " 15.55427084]\n",
      "5.564724043040062\n"
     ]
    }
   ],
   "source": [
    "from sklearn.metrics import mean_squared_error\n",
    "\n",
    "train_preds = clf.predict(X_test)\n",
    "val_preds = clf.predict(df1)\n",
    "train_rmse = mean_squared_error(y_test, train_preds, squared=False)\n",
    "print(val_preds)\n",
    "print(train_preds)\n",
    "print(train_rmse) "
   ]
  },
  {
   "cell_type": "code",
   "execution_count": 41,
   "metadata": {
    "execution": {
     "iopub.execute_input": "2021-11-08T17:03:01.487060Z",
     "iopub.status.busy": "2021-11-08T17:03:01.486662Z",
     "iopub.status.idle": "2021-11-08T17:03:01.491478Z",
     "shell.execute_reply": "2021-11-08T17:03:01.490818Z",
     "shell.execute_reply.started": "2021-11-08T17:03:01.487032Z"
    }
   },
   "outputs": [
    {
     "data": {
      "text/plain": [
       "(9914,)"
      ]
     },
     "execution_count": 41,
     "metadata": {},
     "output_type": "execute_result"
    }
   ],
   "source": [
    "val_preds.shape"
   ]
  },
  {
   "cell_type": "code",
   "execution_count": 42,
   "metadata": {
    "scrolled": true
   },
   "outputs": [
    {
     "data": {
      "text/html": [
       "<div>\n",
       "<style scoped>\n",
       "    .dataframe tbody tr th:only-of-type {\n",
       "        vertical-align: middle;\n",
       "    }\n",
       "\n",
       "    .dataframe tbody tr th {\n",
       "        vertical-align: top;\n",
       "    }\n",
       "\n",
       "    .dataframe thead th {\n",
       "        text-align: right;\n",
       "    }\n",
       "</style>\n",
       "<table border=\"1\" class=\"dataframe\">\n",
       "  <thead>\n",
       "    <tr style=\"text-align: right;\">\n",
       "      <th></th>\n",
       "      <th>key</th>\n",
       "      <th>pickup_datetime</th>\n",
       "      <th>pickup_longitude</th>\n",
       "      <th>pickup_latitude</th>\n",
       "      <th>dropoff_longitude</th>\n",
       "      <th>dropoff_latitude</th>\n",
       "      <th>passenger_count</th>\n",
       "    </tr>\n",
       "  </thead>\n",
       "  <tbody>\n",
       "    <tr>\n",
       "      <th>0</th>\n",
       "      <td>2015-01-27 13:08:24.0000002</td>\n",
       "      <td>2015-01-27 13:08:24 UTC</td>\n",
       "      <td>-73.973320</td>\n",
       "      <td>40.763805</td>\n",
       "      <td>-73.981430</td>\n",
       "      <td>40.743835</td>\n",
       "      <td>1</td>\n",
       "    </tr>\n",
       "    <tr>\n",
       "      <th>1</th>\n",
       "      <td>2015-01-27 13:08:24.0000003</td>\n",
       "      <td>2015-01-27 13:08:24 UTC</td>\n",
       "      <td>-73.986862</td>\n",
       "      <td>40.719383</td>\n",
       "      <td>-73.998886</td>\n",
       "      <td>40.739201</td>\n",
       "      <td>1</td>\n",
       "    </tr>\n",
       "    <tr>\n",
       "      <th>2</th>\n",
       "      <td>2011-10-08 11:53:44.0000002</td>\n",
       "      <td>2011-10-08 11:53:44 UTC</td>\n",
       "      <td>-73.982524</td>\n",
       "      <td>40.751260</td>\n",
       "      <td>-73.979654</td>\n",
       "      <td>40.746139</td>\n",
       "      <td>1</td>\n",
       "    </tr>\n",
       "    <tr>\n",
       "      <th>3</th>\n",
       "      <td>2012-12-01 21:12:12.0000002</td>\n",
       "      <td>2012-12-01 21:12:12 UTC</td>\n",
       "      <td>-73.981160</td>\n",
       "      <td>40.767807</td>\n",
       "      <td>-73.990448</td>\n",
       "      <td>40.751635</td>\n",
       "      <td>1</td>\n",
       "    </tr>\n",
       "    <tr>\n",
       "      <th>4</th>\n",
       "      <td>2012-12-01 21:12:12.0000003</td>\n",
       "      <td>2012-12-01 21:12:12 UTC</td>\n",
       "      <td>-73.966046</td>\n",
       "      <td>40.789775</td>\n",
       "      <td>-73.988565</td>\n",
       "      <td>40.744427</td>\n",
       "      <td>1</td>\n",
       "    </tr>\n",
       "  </tbody>\n",
       "</table>\n",
       "</div>"
      ],
      "text/plain": [
       "                           key          pickup_datetime  pickup_longitude  \\\n",
       "0  2015-01-27 13:08:24.0000002  2015-01-27 13:08:24 UTC        -73.973320   \n",
       "1  2015-01-27 13:08:24.0000003  2015-01-27 13:08:24 UTC        -73.986862   \n",
       "2  2011-10-08 11:53:44.0000002  2011-10-08 11:53:44 UTC        -73.982524   \n",
       "3  2012-12-01 21:12:12.0000002  2012-12-01 21:12:12 UTC        -73.981160   \n",
       "4  2012-12-01 21:12:12.0000003  2012-12-01 21:12:12 UTC        -73.966046   \n",
       "\n",
       "   pickup_latitude  dropoff_longitude  dropoff_latitude  passenger_count  \n",
       "0        40.763805         -73.981430         40.743835                1  \n",
       "1        40.719383         -73.998886         40.739201                1  \n",
       "2        40.751260         -73.979654         40.746139                1  \n",
       "3        40.767807         -73.990448         40.751635                1  \n",
       "4        40.789775         -73.988565         40.744427                1  "
      ]
     },
     "execution_count": 42,
     "metadata": {},
     "output_type": "execute_result"
    }
   ],
   "source": [
    "df2.head()"
   ]
  },
  {
   "cell_type": "markdown",
   "metadata": {},
   "source": [
    "Implemented different Regressor Models"
   ]
  },
  {
   "cell_type": "code",
   "execution_count": 43,
   "metadata": {
    "execution": {
     "iopub.execute_input": "2021-11-08T17:12:46.749560Z",
     "iopub.status.busy": "2021-11-08T17:12:46.749252Z",
     "iopub.status.idle": "2021-11-08T17:12:47.325535Z",
     "shell.execute_reply": "2021-11-08T17:12:47.324888Z",
     "shell.execute_reply.started": "2021-11-08T17:12:46.749510Z"
    }
   },
   "outputs": [],
   "source": [
    "def predict_and_submit(model, fname):\n",
    "    test_preds = model.predict(df1)\n",
    "    sub_df = pd.read_csv('sample_submission.csv')\n",
    "    sub_df['fare_amount'] = test_preds\n",
    "    sub_df.to_csv(fname, index=None)\n",
    "    return sub_df"
   ]
  },
  {
   "cell_type": "code",
   "execution_count": 44,
   "metadata": {},
   "outputs": [
    {
     "data": {
      "text/html": [
       "<div>\n",
       "<style scoped>\n",
       "    .dataframe tbody tr th:only-of-type {\n",
       "        vertical-align: middle;\n",
       "    }\n",
       "\n",
       "    .dataframe tbody tr th {\n",
       "        vertical-align: top;\n",
       "    }\n",
       "\n",
       "    .dataframe thead th {\n",
       "        text-align: right;\n",
       "    }\n",
       "</style>\n",
       "<table border=\"1\" class=\"dataframe\">\n",
       "  <thead>\n",
       "    <tr style=\"text-align: right;\">\n",
       "      <th></th>\n",
       "      <th>key</th>\n",
       "      <th>fare_amount</th>\n",
       "    </tr>\n",
       "  </thead>\n",
       "  <tbody>\n",
       "    <tr>\n",
       "      <th>0</th>\n",
       "      <td>2015-01-27 13:08:24.0000002</td>\n",
       "      <td>10.445386</td>\n",
       "    </tr>\n",
       "    <tr>\n",
       "      <th>1</th>\n",
       "      <td>2015-01-27 13:08:24.0000003</td>\n",
       "      <td>11.328220</td>\n",
       "    </tr>\n",
       "    <tr>\n",
       "      <th>2</th>\n",
       "      <td>2011-10-08 11:53:44.0000002</td>\n",
       "      <td>5.662472</td>\n",
       "    </tr>\n",
       "    <tr>\n",
       "      <th>3</th>\n",
       "      <td>2012-12-01 21:12:12.0000002</td>\n",
       "      <td>8.380379</td>\n",
       "    </tr>\n",
       "    <tr>\n",
       "      <th>4</th>\n",
       "      <td>2012-12-01 21:12:12.0000003</td>\n",
       "      <td>14.503588</td>\n",
       "    </tr>\n",
       "    <tr>\n",
       "      <th>...</th>\n",
       "      <td>...</td>\n",
       "      <td>...</td>\n",
       "    </tr>\n",
       "    <tr>\n",
       "      <th>9909</th>\n",
       "      <td>2015-05-10 12:37:51.0000002</td>\n",
       "      <td>9.384608</td>\n",
       "    </tr>\n",
       "    <tr>\n",
       "      <th>9910</th>\n",
       "      <td>2015-01-12 17:05:51.0000001</td>\n",
       "      <td>11.720524</td>\n",
       "    </tr>\n",
       "    <tr>\n",
       "      <th>9911</th>\n",
       "      <td>2015-04-19 20:44:15.0000001</td>\n",
       "      <td>45.756564</td>\n",
       "    </tr>\n",
       "    <tr>\n",
       "      <th>9912</th>\n",
       "      <td>2015-01-31 01:05:19.0000005</td>\n",
       "      <td>21.637219</td>\n",
       "    </tr>\n",
       "    <tr>\n",
       "      <th>9913</th>\n",
       "      <td>2015-01-18 14:06:23.0000006</td>\n",
       "      <td>7.836940</td>\n",
       "    </tr>\n",
       "  </tbody>\n",
       "</table>\n",
       "<p>9914 rows × 2 columns</p>\n",
       "</div>"
      ],
      "text/plain": [
       "                              key  fare_amount\n",
       "0     2015-01-27 13:08:24.0000002    10.445386\n",
       "1     2015-01-27 13:08:24.0000003    11.328220\n",
       "2     2011-10-08 11:53:44.0000002     5.662472\n",
       "3     2012-12-01 21:12:12.0000002     8.380379\n",
       "4     2012-12-01 21:12:12.0000003    14.503588\n",
       "...                           ...          ...\n",
       "9909  2015-05-10 12:37:51.0000002     9.384608\n",
       "9910  2015-01-12 17:05:51.0000001    11.720524\n",
       "9911  2015-04-19 20:44:15.0000001    45.756564\n",
       "9912  2015-01-31 01:05:19.0000005    21.637219\n",
       "9913  2015-01-18 14:06:23.0000006     7.836940\n",
       "\n",
       "[9914 rows x 2 columns]"
      ]
     },
     "execution_count": 44,
     "metadata": {},
     "output_type": "execute_result"
    }
   ],
   "source": [
    "predict_and_submit(clf, 'linear_submission.csv')"
   ]
  },
  {
   "cell_type": "code",
   "execution_count": 45,
   "metadata": {},
   "outputs": [
    {
     "data": {
      "text/html": [
       "<div>\n",
       "<style scoped>\n",
       "    .dataframe tbody tr th:only-of-type {\n",
       "        vertical-align: middle;\n",
       "    }\n",
       "\n",
       "    .dataframe tbody tr th {\n",
       "        vertical-align: top;\n",
       "    }\n",
       "\n",
       "    .dataframe thead th {\n",
       "        text-align: right;\n",
       "    }\n",
       "</style>\n",
       "<table border=\"1\" class=\"dataframe\">\n",
       "  <thead>\n",
       "    <tr style=\"text-align: right;\">\n",
       "      <th></th>\n",
       "      <th>key</th>\n",
       "      <th>fare_amount</th>\n",
       "    </tr>\n",
       "  </thead>\n",
       "  <tbody>\n",
       "    <tr>\n",
       "      <th>0</th>\n",
       "      <td>2015-01-27 13:08:24.0000002</td>\n",
       "      <td>10.521857</td>\n",
       "    </tr>\n",
       "    <tr>\n",
       "      <th>1</th>\n",
       "      <td>2015-01-27 13:08:24.0000003</td>\n",
       "      <td>10.543515</td>\n",
       "    </tr>\n",
       "    <tr>\n",
       "      <th>2</th>\n",
       "      <td>2011-10-08 11:53:44.0000002</td>\n",
       "      <td>4.997142</td>\n",
       "    </tr>\n",
       "    <tr>\n",
       "      <th>3</th>\n",
       "      <td>2012-12-01 21:12:12.0000002</td>\n",
       "      <td>8.403040</td>\n",
       "    </tr>\n",
       "    <tr>\n",
       "      <th>4</th>\n",
       "      <td>2012-12-01 21:12:12.0000003</td>\n",
       "      <td>15.513969</td>\n",
       "    </tr>\n",
       "    <tr>\n",
       "      <th>...</th>\n",
       "      <td>...</td>\n",
       "      <td>...</td>\n",
       "    </tr>\n",
       "    <tr>\n",
       "      <th>9909</th>\n",
       "      <td>2015-05-10 12:37:51.0000002</td>\n",
       "      <td>8.440569</td>\n",
       "    </tr>\n",
       "    <tr>\n",
       "      <th>9910</th>\n",
       "      <td>2015-01-12 17:05:51.0000001</td>\n",
       "      <td>12.317466</td>\n",
       "    </tr>\n",
       "    <tr>\n",
       "      <th>9911</th>\n",
       "      <td>2015-04-19 20:44:15.0000001</td>\n",
       "      <td>50.970343</td>\n",
       "    </tr>\n",
       "    <tr>\n",
       "      <th>9912</th>\n",
       "      <td>2015-01-31 01:05:19.0000005</td>\n",
       "      <td>20.659851</td>\n",
       "    </tr>\n",
       "    <tr>\n",
       "      <th>9913</th>\n",
       "      <td>2015-01-18 14:06:23.0000006</td>\n",
       "      <td>6.811736</td>\n",
       "    </tr>\n",
       "  </tbody>\n",
       "</table>\n",
       "<p>9914 rows × 2 columns</p>\n",
       "</div>"
      ],
      "text/plain": [
       "                              key  fare_amount\n",
       "0     2015-01-27 13:08:24.0000002    10.521857\n",
       "1     2015-01-27 13:08:24.0000003    10.543515\n",
       "2     2011-10-08 11:53:44.0000002     4.997142\n",
       "3     2012-12-01 21:12:12.0000002     8.403040\n",
       "4     2012-12-01 21:12:12.0000003    15.513969\n",
       "...                           ...          ...\n",
       "9909  2015-05-10 12:37:51.0000002     8.440569\n",
       "9910  2015-01-12 17:05:51.0000001    12.317466\n",
       "9911  2015-04-19 20:44:15.0000001    50.970343\n",
       "9912  2015-01-31 01:05:19.0000005    20.659851\n",
       "9913  2015-01-18 14:06:23.0000006     6.811736\n",
       "\n",
       "[9914 rows x 2 columns]"
      ]
     },
     "execution_count": 45,
     "metadata": {},
     "output_type": "execute_result"
    }
   ],
   "source": [
    "from sklearn.ensemble import RandomForestRegressor\n",
    "model2 = RandomForestRegressor(max_depth=10, n_jobs=-1, random_state=7, n_estimators=50)\n",
    "model2.fit(X_train, y_train)\n",
    "predict_and_submit(model2, 'RandomForest_submission.csv')"
   ]
  },
  {
   "cell_type": "code",
   "execution_count": 46,
   "metadata": {},
   "outputs": [
    {
     "data": {
      "text/html": [
       "<div>\n",
       "<style scoped>\n",
       "    .dataframe tbody tr th:only-of-type {\n",
       "        vertical-align: middle;\n",
       "    }\n",
       "\n",
       "    .dataframe tbody tr th {\n",
       "        vertical-align: top;\n",
       "    }\n",
       "\n",
       "    .dataframe thead th {\n",
       "        text-align: right;\n",
       "    }\n",
       "</style>\n",
       "<table border=\"1\" class=\"dataframe\">\n",
       "  <thead>\n",
       "    <tr style=\"text-align: right;\">\n",
       "      <th></th>\n",
       "      <th>key</th>\n",
       "      <th>fare_amount</th>\n",
       "    </tr>\n",
       "  </thead>\n",
       "  <tbody>\n",
       "    <tr>\n",
       "      <th>0</th>\n",
       "      <td>2015-01-27 13:08:24.0000002</td>\n",
       "      <td>10.197049</td>\n",
       "    </tr>\n",
       "    <tr>\n",
       "      <th>1</th>\n",
       "      <td>2015-01-27 13:08:24.0000003</td>\n",
       "      <td>10.557327</td>\n",
       "    </tr>\n",
       "    <tr>\n",
       "      <th>2</th>\n",
       "      <td>2011-10-08 11:53:44.0000002</td>\n",
       "      <td>5.212269</td>\n",
       "    </tr>\n",
       "    <tr>\n",
       "      <th>3</th>\n",
       "      <td>2012-12-01 21:12:12.0000002</td>\n",
       "      <td>8.267931</td>\n",
       "    </tr>\n",
       "    <tr>\n",
       "      <th>4</th>\n",
       "      <td>2012-12-01 21:12:12.0000003</td>\n",
       "      <td>14.371469</td>\n",
       "    </tr>\n",
       "    <tr>\n",
       "      <th>...</th>\n",
       "      <td>...</td>\n",
       "      <td>...</td>\n",
       "    </tr>\n",
       "    <tr>\n",
       "      <th>9909</th>\n",
       "      <td>2015-05-10 12:37:51.0000002</td>\n",
       "      <td>8.670201</td>\n",
       "    </tr>\n",
       "    <tr>\n",
       "      <th>9910</th>\n",
       "      <td>2015-01-12 17:05:51.0000001</td>\n",
       "      <td>11.754142</td>\n",
       "    </tr>\n",
       "    <tr>\n",
       "      <th>9911</th>\n",
       "      <td>2015-04-19 20:44:15.0000001</td>\n",
       "      <td>53.452745</td>\n",
       "    </tr>\n",
       "    <tr>\n",
       "      <th>9912</th>\n",
       "      <td>2015-01-31 01:05:19.0000005</td>\n",
       "      <td>21.067017</td>\n",
       "    </tr>\n",
       "    <tr>\n",
       "      <th>9913</th>\n",
       "      <td>2015-01-18 14:06:23.0000006</td>\n",
       "      <td>6.727633</td>\n",
       "    </tr>\n",
       "  </tbody>\n",
       "</table>\n",
       "<p>9914 rows × 2 columns</p>\n",
       "</div>"
      ],
      "text/plain": [
       "                              key  fare_amount\n",
       "0     2015-01-27 13:08:24.0000002    10.197049\n",
       "1     2015-01-27 13:08:24.0000003    10.557327\n",
       "2     2011-10-08 11:53:44.0000002     5.212269\n",
       "3     2012-12-01 21:12:12.0000002     8.267931\n",
       "4     2012-12-01 21:12:12.0000003    14.371469\n",
       "...                           ...          ...\n",
       "9909  2015-05-10 12:37:51.0000002     8.670201\n",
       "9910  2015-01-12 17:05:51.0000001    11.754142\n",
       "9911  2015-04-19 20:44:15.0000001    53.452745\n",
       "9912  2015-01-31 01:05:19.0000005    21.067017\n",
       "9913  2015-01-18 14:06:23.0000006     6.727633\n",
       "\n",
       "[9914 rows x 2 columns]"
      ]
     },
     "execution_count": 46,
     "metadata": {},
     "output_type": "execute_result"
    }
   ],
   "source": [
    "from sklearn import ensemble\n",
    "reg = ensemble.GradientBoostingRegressor()\n",
    "reg.fit(X_train, y_train)\n",
    "predict_and_submit(reg, 'GradientBoost_submission.csv')"
   ]
  },
  {
   "cell_type": "code",
   "execution_count": 47,
   "metadata": {},
   "outputs": [
    {
     "data": {
      "text/html": [
       "<div>\n",
       "<style scoped>\n",
       "    .dataframe tbody tr th:only-of-type {\n",
       "        vertical-align: middle;\n",
       "    }\n",
       "\n",
       "    .dataframe tbody tr th {\n",
       "        vertical-align: top;\n",
       "    }\n",
       "\n",
       "    .dataframe thead th {\n",
       "        text-align: right;\n",
       "    }\n",
       "</style>\n",
       "<table border=\"1\" class=\"dataframe\">\n",
       "  <thead>\n",
       "    <tr style=\"text-align: right;\">\n",
       "      <th></th>\n",
       "      <th>key</th>\n",
       "      <th>fare_amount</th>\n",
       "    </tr>\n",
       "  </thead>\n",
       "  <tbody>\n",
       "    <tr>\n",
       "      <th>0</th>\n",
       "      <td>2015-01-27 13:08:24.0000002</td>\n",
       "      <td>10.197049</td>\n",
       "    </tr>\n",
       "    <tr>\n",
       "      <th>1</th>\n",
       "      <td>2015-01-27 13:08:24.0000003</td>\n",
       "      <td>10.557327</td>\n",
       "    </tr>\n",
       "    <tr>\n",
       "      <th>2</th>\n",
       "      <td>2011-10-08 11:53:44.0000002</td>\n",
       "      <td>5.212269</td>\n",
       "    </tr>\n",
       "    <tr>\n",
       "      <th>3</th>\n",
       "      <td>2012-12-01 21:12:12.0000002</td>\n",
       "      <td>8.267931</td>\n",
       "    </tr>\n",
       "    <tr>\n",
       "      <th>4</th>\n",
       "      <td>2012-12-01 21:12:12.0000003</td>\n",
       "      <td>14.371469</td>\n",
       "    </tr>\n",
       "    <tr>\n",
       "      <th>...</th>\n",
       "      <td>...</td>\n",
       "      <td>...</td>\n",
       "    </tr>\n",
       "    <tr>\n",
       "      <th>9909</th>\n",
       "      <td>2015-05-10 12:37:51.0000002</td>\n",
       "      <td>8.670201</td>\n",
       "    </tr>\n",
       "    <tr>\n",
       "      <th>9910</th>\n",
       "      <td>2015-01-12 17:05:51.0000001</td>\n",
       "      <td>11.754142</td>\n",
       "    </tr>\n",
       "    <tr>\n",
       "      <th>9911</th>\n",
       "      <td>2015-04-19 20:44:15.0000001</td>\n",
       "      <td>53.452745</td>\n",
       "    </tr>\n",
       "    <tr>\n",
       "      <th>9912</th>\n",
       "      <td>2015-01-31 01:05:19.0000005</td>\n",
       "      <td>21.067017</td>\n",
       "    </tr>\n",
       "    <tr>\n",
       "      <th>9913</th>\n",
       "      <td>2015-01-18 14:06:23.0000006</td>\n",
       "      <td>6.727633</td>\n",
       "    </tr>\n",
       "  </tbody>\n",
       "</table>\n",
       "<p>9914 rows × 2 columns</p>\n",
       "</div>"
      ],
      "text/plain": [
       "                              key  fare_amount\n",
       "0     2015-01-27 13:08:24.0000002    10.197049\n",
       "1     2015-01-27 13:08:24.0000003    10.557327\n",
       "2     2011-10-08 11:53:44.0000002     5.212269\n",
       "3     2012-12-01 21:12:12.0000002     8.267931\n",
       "4     2012-12-01 21:12:12.0000003    14.371469\n",
       "...                           ...          ...\n",
       "9909  2015-05-10 12:37:51.0000002     8.670201\n",
       "9910  2015-01-12 17:05:51.0000001    11.754142\n",
       "9911  2015-04-19 20:44:15.0000001    53.452745\n",
       "9912  2015-01-31 01:05:19.0000005    21.067017\n",
       "9913  2015-01-18 14:06:23.0000006     6.727633\n",
       "\n",
       "[9914 rows x 2 columns]"
      ]
     },
     "execution_count": 47,
     "metadata": {},
     "output_type": "execute_result"
    }
   ],
   "source": [
    "from sklearn import linear_model\n",
    "Bayes = linear_model.BayesianRidge()\n",
    "Bayes.fit(X_train,y_train)\n",
    "predict_and_submit(reg, 'Bayes_submission.csv')"
   ]
  },
  {
   "cell_type": "code",
   "execution_count": null,
   "metadata": {},
   "outputs": [],
   "source": []
  }
 ],
 "metadata": {
  "kernelspec": {
   "display_name": "Python 3",
   "language": "python",
   "name": "python3"
  },
  "language_info": {
   "codemirror_mode": {
    "name": "ipython",
    "version": 3
   },
   "file_extension": ".py",
   "mimetype": "text/x-python",
   "name": "python",
   "nbconvert_exporter": "python",
   "pygments_lexer": "ipython3",
   "version": "3.8.8"
  }
 },
 "nbformat": 4,
 "nbformat_minor": 4
}
