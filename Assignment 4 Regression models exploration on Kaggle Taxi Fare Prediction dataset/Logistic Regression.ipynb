{
 "cells": [
  {
   "cell_type": "markdown",
   "id": "0d14a06e",
   "metadata": {},
   "source": [
    "# Logistic Regression 5.a\n"
   ]
  },
  {
   "cell_type": "code",
   "execution_count": 1,
   "id": "da00a83f",
   "metadata": {},
   "outputs": [],
   "source": [
    "import numpy as np\n",
    "import pandas as pd\n",
    "import matplotlib.pyplot as plt"
   ]
  },
  {
   "cell_type": "code",
   "execution_count": 2,
   "id": "ff3d1564",
   "metadata": {},
   "outputs": [],
   "source": [
    "X_train=np.array([[0.346,0.303,0.358,0.602,0.790,0.611],\n",
    "                 [0.780,0.439,0.729,0.863,0.753,0.965]])\n",
    "Y_train=np.array([0,0,0,1,1,1])\n",
    "X_test=np.array([[0.959,0.750,0.395,0.823,0.761,0.844],\n",
    "                [0.382,0.306,0.760,0.764,0.874,0.435]])\n",
    "Y_test=np.array([0,0,0,1,1,1])"
   ]
  },
  {
   "cell_type": "code",
   "execution_count": 3,
   "id": "0be56edc",
   "metadata": {},
   "outputs": [],
   "source": [
    "Y_train = Y_train.reshape(1, X_train.shape[1])\n",
    "Y_test = Y_test.reshape(1, X_test.shape[1])"
   ]
  },
  {
   "cell_type": "code",
   "execution_count": 4,
   "id": "e155f820",
   "metadata": {},
   "outputs": [
    {
     "name": "stdout",
     "output_type": "stream",
     "text": [
      "Shape of X_train :  (2, 6)\n",
      "Shape of Y_train :  (1, 6)\n",
      "Shape of X_test :  (2, 6)\n",
      "Shape of Y_test :  (1, 6)\n"
     ]
    }
   ],
   "source": [
    "print(\"Shape of X_train : \", X_train.shape)\n",
    "print(\"Shape of Y_train : \", Y_train.shape)\n",
    "print(\"Shape of X_test : \", X_test.shape)\n",
    "print(\"Shape of Y_test : \", Y_test.shape)"
   ]
  },
  {
   "cell_type": "code",
   "execution_count": 5,
   "id": "010f1f98",
   "metadata": {},
   "outputs": [],
   "source": [
    "#Logistic Function\n",
    "def sigmoid(x):\n",
    "    return 1/(1 + np.exp(-x))"
   ]
  },
  {
   "cell_type": "code",
   "execution_count": 6,
   "id": "f84f346e",
   "metadata": {},
   "outputs": [],
   "source": [
    "def model(X, Y, learning_rate, iterations): \n",
    "    m = X_train.shape[1]\n",
    "    n = X_train.shape[0]\n",
    "    W = np.zeros((n,1))\n",
    "    B = 0\n",
    "    cross_entropy_list = []\n",
    "    \n",
    "    for i in range(iterations):\n",
    "        Z = np.dot(W.T, X) + B\n",
    "        A = sigmoid(Z)\n",
    "        \n",
    "        # cross entropy error function\n",
    "        cross = -(1/m)*np.sum( Y*np.log(A) + (1-Y)*np.log(1-A))\n",
    "        \n",
    "        # Gradient Descent\n",
    "        dW = (1/m)*np.dot(A-Y, X.T)\n",
    "        dB = (1/m)*np.sum(A - Y)\n",
    "        \n",
    "        W = W - learning_rate*dW.T\n",
    "        B = B - learning_rate*dB\n",
    "        \n",
    "        # Keeping track of our cross entropy error function value\n",
    "        cross_entropy_list.append(cross)\n",
    "        \n",
    "        if(i%(iterations/10) == 0):\n",
    "            print(\"cross entropy after \", i, \"iteration is : \", cross)\n",
    "        \n",
    "    return W, B, cross_entropy_list"
   ]
  },
  {
   "cell_type": "code",
   "execution_count": 7,
   "id": "f27c3838",
   "metadata": {},
   "outputs": [
    {
     "name": "stdout",
     "output_type": "stream",
     "text": [
      "cross entropy after  0 iteration is :  0.6931471805599452\n",
      "cross entropy after  100000 iteration is :  0.23233404841365107\n",
      "cross entropy after  200000 iteration is :  0.13887902254686124\n",
      "cross entropy after  300000 iteration is :  0.09954744745129197\n",
      "cross entropy after  400000 iteration is :  0.07777286576914884\n",
      "cross entropy after  500000 iteration is :  0.06390031784807679\n",
      "cross entropy after  600000 iteration is :  0.054270905912205694\n",
      "cross entropy after  700000 iteration is :  0.047187875007339716\n",
      "cross entropy after  800000 iteration is :  0.04175497056462178\n",
      "cross entropy after  900000 iteration is :  0.03745342486959348\n",
      "[[20.36695928]\n",
      " [ 5.31915174]] -14.104892873419047\n"
     ]
    }
   ],
   "source": [
    "iterations = 1000000\n",
    "learning_rate = 0.002\n",
    "W, B, cross_entropy_list = model(X_train, Y_train, learning_rate = learning_rate, iterations = iterations)\n",
    "print(W,B)"
   ]
  },
  {
   "cell_type": "code",
   "execution_count": 8,
   "id": "76f66ecf",
   "metadata": {},
   "outputs": [
    {
     "name": "stdout",
     "output_type": "stream",
     "text": [
      "[[20.36695928]\n",
      " [ 5.31915174]] -14.104892873419047\n"
     ]
    }
   ],
   "source": [
    "print(W,B)"
   ]
  },
  {
   "cell_type": "code",
   "execution_count": 9,
   "id": "6919bcb9",
   "metadata": {},
   "outputs": [],
   "source": [
    "def accuracy(X, Y, W, B):    \n",
    "    Z = np.dot(W.T, X) + B\n",
    "    A = sigmoid(Z)\n",
    "    A = A > 0.5   \n",
    "    A = np.array(A, dtype = 'int64')\n",
    "    acc = (1 - np.sum(np.absolute(A - Y))/Y.shape[1])*100\n",
    "    print(\"Accuracy of the model is : \", round(acc, 1), \"%\")"
   ]
  },
  {
   "cell_type": "code",
   "execution_count": 10,
   "id": "fd51f653",
   "metadata": {},
   "outputs": [
    {
     "name": "stdout",
     "output_type": "stream",
     "text": [
      "Accuracy of the model is :  66.7 %\n"
     ]
    }
   ],
   "source": [
    "accuracy(X_test, Y_test, W, B)"
   ]
  },
  {
   "cell_type": "markdown",
   "id": "537ec9d0",
   "metadata": {},
   "source": [
    "# Logistic Regression 5.b"
   ]
  },
  {
   "cell_type": "code",
   "execution_count": 37,
   "id": "8901f08d",
   "metadata": {},
   "outputs": [],
   "source": [
    "def model1(X, Y, learning_rate, iterations): \n",
    "    m = X_train.shape[1]\n",
    "    n = X_train.shape[0]\n",
    "    W1 = np.array([1.5,0.5])\n",
    "    B1 = -1\n",
    "    cross_entropy_list1 = []\n",
    "    \n",
    "    for i in range(iterations):\n",
    "        Z = np.dot(W1.T, X) + B1\n",
    "        A = sigmoid(Z)\n",
    "        \n",
    "        # cross entropy error function\n",
    "        cross = -(1/m)*np.sum( Y*np.log(A) + (1-Y)*np.log(1-A))\n",
    "        \n",
    "        # Gradient Descent\n",
    "        dW1 = (1/m)*np.dot(A-Y, X.T)\n",
    "        dB1 = (1/m)*np.sum(A - Y)\n",
    "        \n",
    "        W1 = W1 - learning_rate*dW1.T\n",
    "        B1 = B1 - learning_rate*dB1\n",
    "        \n",
    "        # Keeping track of our cross entropy error function value\n",
    "        cross_entropy_list1.append(cross)\n",
    "        \n",
    "        if(i%(iterations/10) == 0):\n",
    "            print(\"cross entropy after \", i, \"iteration is : \", cross)\n",
    "        \n",
    "    return W, B, cross_entropy_list1"
   ]
  },
  {
   "cell_type": "code",
   "execution_count": 43,
   "id": "4877bad0",
   "metadata": {
    "scrolled": true
   },
   "outputs": [
    {
     "name": "stdout",
     "output_type": "stream",
     "text": [
      "cross entropy after  0 iteration is :  0.5569500797547651\n",
      "cross entropy after  1000000 iteration is :  0.0012948443736050602\n",
      "cross entropy after  2000000 iteration is :  0.0006515830313335168\n",
      "cross entropy after  3000000 iteration is :  0.00043575918420747563\n",
      "cross entropy after  4000000 iteration is :  0.00032747982776236786\n",
      "cross entropy after  5000000 iteration is :  0.00026236585863216236\n",
      "cross entropy after  6000000 iteration is :  0.00021888453474993907\n",
      "cross entropy after  7000000 iteration is :  0.00018778608046941066\n",
      "cross entropy after  8000000 iteration is :  0.00016443750204114848\n",
      "cross entropy after  9000000 iteration is :  0.00014626131700107336\n"
     ]
    }
   ],
   "source": [
    "iterations = 10000000\n",
    "learning_rate = 0.1\n",
    "W1, B1, cross_entropy_list1 = model1(X_train, Y_train, learning_rate = learning_rate, iterations = iterations)\n"
   ]
  },
  {
   "cell_type": "code",
   "execution_count": 44,
   "id": "3219716c",
   "metadata": {},
   "outputs": [
    {
     "name": "stdout",
     "output_type": "stream",
     "text": [
      "[[20.36695928]\n",
      " [ 5.31915174]] [[1 1 1 1 1 1]]\n"
     ]
    }
   ],
   "source": [
    "print(W1,B1)"
   ]
  },
  {
   "cell_type": "code",
   "execution_count": 45,
   "id": "96112f91",
   "metadata": {},
   "outputs": [],
   "source": [
    "def accuracy(X, Y, W1, B1):    \n",
    "    Z = np.dot(W1.T, X) + B1\n",
    "    A = sigmoid(Z)\n",
    "    A = A > 0.5   \n",
    "    A = np.array(A, dtype = 'int64')\n",
    "    acc = (1 - np.sum(np.absolute(A - Y))/Y.shape[1])*100\n",
    "    print(\"Accuracy of the model is : \", round(acc, 1), \"%\")"
   ]
  },
  {
   "cell_type": "code",
   "execution_count": 46,
   "id": "146f1027",
   "metadata": {},
   "outputs": [],
   "source": [
    "def predict(X, W1, B1):    \n",
    "    Z1 = []\n",
    "    Z = np.dot(W1.T, X) + B1\n",
    "   \n",
    "    \n",
    "    A = sigmoid(Z)\n",
    "    A = A > 0.5   \n",
    "    A = np.array(A, dtype = 'int64')\n",
    "    return A\n"
   ]
  },
  {
   "cell_type": "code",
   "execution_count": 49,
   "id": "e9ff77a8",
   "metadata": {},
   "outputs": [
    {
     "name": "stdout",
     "output_type": "stream",
     "text": [
      "Accuracy of the model is :  50.0 %\n",
      "[[1 1 1 1 1 1]]\n"
     ]
    }
   ],
   "source": [
    "accuracy(X_test, Y_test, W1, B1)\n",
    "B=predict(X_test, W1, B1)\n",
    "print(B)"
   ]
  },
  {
   "cell_type": "code",
   "execution_count": 48,
   "id": "29f9f4e8",
   "metadata": {},
   "outputs": [
    {
     "name": "stderr",
     "output_type": "stream",
     "text": [
      "C:\\ProgramData\\Anaconda3\\lib\\site-packages\\sklearn\\metrics\\_classification.py:1245: UndefinedMetricWarning: Recall and F-score are ill-defined and being set to 0.0 in labels with no true samples. Use `zero_division` parameter to control this behavior.\n",
      "  _warn_prf(average, modifier, msg_start, len(result))\n"
     ]
    },
    {
     "data": {
      "text/plain": [
       "(0.5, 0.5, 0.5, None)"
      ]
     },
     "execution_count": 48,
     "metadata": {},
     "output_type": "execute_result"
    }
   ],
   "source": [
    "from sklearn.metrics import precision_recall_fscore_support\n",
    "precision_recall_fscore_support(Y_test, B, average='macro')"
   ]
  },
  {
   "cell_type": "code",
   "execution_count": null,
   "id": "ba3f7055",
   "metadata": {},
   "outputs": [],
   "source": []
  }
 ],
 "metadata": {
  "kernelspec": {
   "display_name": "Python 3",
   "language": "python",
   "name": "python3"
  },
  "language_info": {
   "codemirror_mode": {
    "name": "ipython",
    "version": 3
   },
   "file_extension": ".py",
   "mimetype": "text/x-python",
   "name": "python",
   "nbconvert_exporter": "python",
   "pygments_lexer": "ipython3",
   "version": "3.8.8"
  }
 },
 "nbformat": 4,
 "nbformat_minor": 5
}
