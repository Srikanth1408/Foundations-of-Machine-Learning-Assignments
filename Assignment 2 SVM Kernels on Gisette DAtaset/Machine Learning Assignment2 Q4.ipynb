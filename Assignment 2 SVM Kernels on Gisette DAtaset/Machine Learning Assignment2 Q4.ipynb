{
 "cells": [
  {
   "cell_type": "markdown",
   "id": "5a8e87c7",
   "metadata": {},
   "source": [
    "# 4.a"
   ]
  },
  {
   "cell_type": "code",
   "execution_count": 103,
   "id": "93e4fcd7",
   "metadata": {},
   "outputs": [],
   "source": [
    "#Importing required libraries\n",
    "import pandas as pd\n",
    "import numpy as np\n",
    "import matplotlib.pyplot as plt\n",
    "from sklearn.model_selection import train_test_split\n",
    "from sklearn.svm import SVC\n",
    "from sklearn.metrics import classification_report\n",
    "from sklearn.metrics import accuracy_score\n",
    "from sklearn.metrics import mean_squared_error"
   ]
  },
  {
   "cell_type": "code",
   "execution_count": 104,
   "id": "7557c0a3",
   "metadata": {},
   "outputs": [
    {
     "name": "stdout",
     "output_type": "stream",
     "text": [
      "      Column2   Column3   Column4\n",
      "0           6  0.341092 -4.528937\n",
      "1           5  0.444131 -5.496812\n",
      "2           4  0.231002 -2.886750\n",
      "3           7  0.200275 -3.534375\n",
      "4           3  0.291936 -4.352062\n",
      "...       ...       ...       ...\n",
      "7286        3  0.296178 -2.558250\n",
      "7287        3  0.252795 -3.110500\n",
      "7288        3  0.393705 -2.921187\n",
      "7289        0  0.597590 -2.258062\n",
      "7290        1  0.276221 -0.916250\n",
      "\n",
      "[7291 rows x 3 columns]\n"
     ]
    }
   ],
   "source": [
    "#Importing training data and removing the unwanted column1\n",
    "train_data = pd.read_csv('traindata.csv')\n",
    "train_data1=train_data.drop('Column1',axis=1)\n",
    "print(train_data1)"
   ]
  },
  {
   "cell_type": "code",
   "execution_count": 105,
   "id": "071ca573",
   "metadata": {},
   "outputs": [
    {
     "name": "stdout",
     "output_type": "stream",
     "text": [
      "(7291, 3)\n"
     ]
    },
    {
     "data": {
      "text/html": [
       "<div>\n",
       "<style scoped>\n",
       "    .dataframe tbody tr th:only-of-type {\n",
       "        vertical-align: middle;\n",
       "    }\n",
       "\n",
       "    .dataframe tbody tr th {\n",
       "        vertical-align: top;\n",
       "    }\n",
       "\n",
       "    .dataframe thead th {\n",
       "        text-align: right;\n",
       "    }\n",
       "</style>\n",
       "<table border=\"1\" class=\"dataframe\">\n",
       "  <thead>\n",
       "    <tr style=\"text-align: right;\">\n",
       "      <th></th>\n",
       "      <th>Column2</th>\n",
       "      <th>Column3</th>\n",
       "      <th>Column4</th>\n",
       "    </tr>\n",
       "  </thead>\n",
       "  <tbody>\n",
       "    <tr>\n",
       "      <th>0</th>\n",
       "      <td>6</td>\n",
       "      <td>0.341092</td>\n",
       "      <td>-4.528937</td>\n",
       "    </tr>\n",
       "    <tr>\n",
       "      <th>1</th>\n",
       "      <td>5</td>\n",
       "      <td>0.444131</td>\n",
       "      <td>-5.496812</td>\n",
       "    </tr>\n",
       "    <tr>\n",
       "      <th>2</th>\n",
       "      <td>4</td>\n",
       "      <td>0.231002</td>\n",
       "      <td>-2.886750</td>\n",
       "    </tr>\n",
       "    <tr>\n",
       "      <th>3</th>\n",
       "      <td>7</td>\n",
       "      <td>0.200275</td>\n",
       "      <td>-3.534375</td>\n",
       "    </tr>\n",
       "    <tr>\n",
       "      <th>4</th>\n",
       "      <td>3</td>\n",
       "      <td>0.291936</td>\n",
       "      <td>-4.352062</td>\n",
       "    </tr>\n",
       "  </tbody>\n",
       "</table>\n",
       "</div>"
      ],
      "text/plain": [
       "   Column2   Column3   Column4\n",
       "0        6  0.341092 -4.528937\n",
       "1        5  0.444131 -5.496812\n",
       "2        4  0.231002 -2.886750\n",
       "3        7  0.200275 -3.534375\n",
       "4        3  0.291936 -4.352062"
      ]
     },
     "execution_count": 105,
     "metadata": {},
     "output_type": "execute_result"
    }
   ],
   "source": [
    "#Checking out the data\n",
    "print(train_data1.shape) \n",
    "train_data1.head(5)"
   ]
  },
  {
   "cell_type": "code",
   "execution_count": 106,
   "id": "8f413aef",
   "metadata": {},
   "outputs": [
    {
     "name": "stdout",
     "output_type": "stream",
     "text": [
      "(1561, 3)\n"
     ]
    },
    {
     "data": {
      "text/html": [
       "<div>\n",
       "<style scoped>\n",
       "    .dataframe tbody tr th:only-of-type {\n",
       "        vertical-align: middle;\n",
       "    }\n",
       "\n",
       "    .dataframe tbody tr th {\n",
       "        vertical-align: top;\n",
       "    }\n",
       "\n",
       "    .dataframe thead th {\n",
       "        text-align: right;\n",
       "    }\n",
       "</style>\n",
       "<table border=\"1\" class=\"dataframe\">\n",
       "  <thead>\n",
       "    <tr style=\"text-align: right;\">\n",
       "      <th></th>\n",
       "      <th>Column2</th>\n",
       "      <th>Column3</th>\n",
       "      <th>Column4</th>\n",
       "    </tr>\n",
       "  </thead>\n",
       "  <tbody>\n",
       "    <tr>\n",
       "      <th>1</th>\n",
       "      <td>5</td>\n",
       "      <td>0.444131</td>\n",
       "      <td>-5.496812</td>\n",
       "    </tr>\n",
       "    <tr>\n",
       "      <th>7</th>\n",
       "      <td>1</td>\n",
       "      <td>0.123043</td>\n",
       "      <td>-0.707875</td>\n",
       "    </tr>\n",
       "    <tr>\n",
       "      <th>9</th>\n",
       "      <td>1</td>\n",
       "      <td>0.113859</td>\n",
       "      <td>-0.931375</td>\n",
       "    </tr>\n",
       "    <tr>\n",
       "      <th>12</th>\n",
       "      <td>1</td>\n",
       "      <td>0.115371</td>\n",
       "      <td>-0.386000</td>\n",
       "    </tr>\n",
       "    <tr>\n",
       "      <th>13</th>\n",
       "      <td>1</td>\n",
       "      <td>0.102281</td>\n",
       "      <td>-0.378812</td>\n",
       "    </tr>\n",
       "  </tbody>\n",
       "</table>\n",
       "</div>"
      ],
      "text/plain": [
       "    Column2   Column3   Column4\n",
       "1         5  0.444131 -5.496812\n",
       "7         1  0.123043 -0.707875\n",
       "9         1  0.113859 -0.931375\n",
       "12        1  0.115371 -0.386000\n",
       "13        1  0.102281 -0.378812"
      ]
     },
     "execution_count": 106,
     "metadata": {},
     "output_type": "execute_result"
    }
   ],
   "source": [
    "#Segrerating only the rows with 1 and 5\n",
    "df_rows = train_data1[ (train_data1.Column2 == 1) | (train_data1.Column2 == 5)]\n",
    "print(df_rows.shape)\n",
    "df_rows.head(5)"
   ]
  },
  {
   "cell_type": "code",
   "execution_count": 107,
   "id": "16a4598e",
   "metadata": {},
   "outputs": [],
   "source": [
    "#Seperating Column2 which is label and Column3 and 4 which are features\n",
    "x=df_rows.drop('Column2',axis=1)\n",
    "y=df_rows['Column2']"
   ]
  },
  {
   "cell_type": "code",
   "execution_count": 108,
   "id": "452c4550",
   "metadata": {},
   "outputs": [
    {
     "data": {
      "text/plain": [
       "SVC(kernel='linear')"
      ]
     },
     "execution_count": 108,
     "metadata": {},
     "output_type": "execute_result"
    }
   ],
   "source": [
    "#Training the algorithm using Linear kernel\n",
    "svcclassifier=SVC(kernel='linear')\n",
    "svcclassifier.fit(x,y)"
   ]
  },
  {
   "cell_type": "code",
   "execution_count": 109,
   "id": "d90b9934",
   "metadata": {},
   "outputs": [],
   "source": [
    "#Importing test data\n",
    "test_data = pd.read_csv('testdata.csv')\n",
    "test_data1=test_data.drop('Column1',axis=1)\n",
    "df_rows1 = test_data1[ (test_data1.Column2 == 1) | (test_data1.Column2 == 5)]\n",
    "a=df_rows1.drop('Column2',axis=1)\n",
    "b=df_rows1['Column2']"
   ]
  },
  {
   "cell_type": "code",
   "execution_count": 110,
   "id": "634355d3",
   "metadata": {},
   "outputs": [],
   "source": [
    "#Predicting the classes\n",
    "y_predict=svcclassifier.predict(a)\n"
   ]
  },
  {
   "cell_type": "code",
   "execution_count": 112,
   "id": "fac443f1",
   "metadata": {},
   "outputs": [
    {
     "name": "stdout",
     "output_type": "stream",
     "text": [
      "              precision    recall  f1-score   support\n",
      "\n",
      "           1       1.00      0.97      0.98       264\n",
      "           5       0.95      1.00      0.97       160\n",
      "\n",
      "    accuracy                           0.98       424\n",
      "   macro avg       0.97      0.98      0.98       424\n",
      "weighted avg       0.98      0.98      0.98       424\n",
      "\n"
     ]
    },
    {
     "data": {
      "text/plain": [
       "array([14, 14])"
      ]
     },
     "execution_count": 112,
     "metadata": {},
     "output_type": "execute_result"
    }
   ],
   "source": [
    "#Evaluating the model\n",
    "print(classification_report(b,y_predict))    #Accuracy is given\n",
    "svcclassifier.n_support_                     #No.of support vectors"
   ]
  },
  {
   "cell_type": "code",
   "execution_count": null,
   "id": "f408017b",
   "metadata": {},
   "outputs": [],
   "source": []
  },
  {
   "cell_type": "markdown",
   "id": "dfd338a2",
   "metadata": {},
   "source": [
    "# 4.b"
   ]
  },
  {
   "cell_type": "code",
   "execution_count": 113,
   "id": "d21fd374",
   "metadata": {},
   "outputs": [],
   "source": [
    "train_first50 = df_rows.iloc[:50]\n",
    "x=train_first50.drop('Column2',axis=1)\n",
    "y=train_first50['Column2']\n",
    "svcclassifier=SVC(kernel='linear')\n",
    "svcclassifier.fit(x,y)\n",
    "y_predict=svcclassifier.predict(a)\n",
    "\n"
   ]
  },
  {
   "cell_type": "code",
   "execution_count": 114,
   "id": "8a75e5bb",
   "metadata": {},
   "outputs": [
    {
     "name": "stdout",
     "output_type": "stream",
     "text": [
      "              precision    recall  f1-score   support\n",
      "\n",
      "           1       1.00      0.97      0.98       264\n",
      "           5       0.95      1.00      0.98       160\n",
      "\n",
      "    accuracy                           0.98       424\n",
      "   macro avg       0.98      0.98      0.98       424\n",
      "weighted avg       0.98      0.98      0.98       424\n",
      "\n"
     ]
    },
    {
     "data": {
      "text/plain": [
       "array([1, 1])"
      ]
     },
     "execution_count": 114,
     "metadata": {},
     "output_type": "execute_result"
    }
   ],
   "source": [
    "print(classification_report(b,y_predict))    #Accuracy with first 50 training points only\n",
    "svcclassifier.n_support_                     #No.of Support Vectors\n"
   ]
  },
  {
   "cell_type": "code",
   "execution_count": 94,
   "id": "ac22f8c2",
   "metadata": {},
   "outputs": [],
   "source": [
    "train_first100 = df_rows.iloc[:100]\n",
    "x=train_first100.drop('Column2',axis=1)\n",
    "y=train_first100['Column2']\n",
    "svcclassifier=SVC(kernel='linear')\n",
    "svcclassifier.fit(x,y)\n",
    "y_predict=svcclassifier.predict(a)\n"
   ]
  },
  {
   "cell_type": "code",
   "execution_count": 95,
   "id": "83154625",
   "metadata": {},
   "outputs": [
    {
     "name": "stdout",
     "output_type": "stream",
     "text": [
      "              precision    recall  f1-score   support\n",
      "\n",
      "           1       1.00      0.97      0.98       264\n",
      "           5       0.95      1.00      0.98       160\n",
      "\n",
      "    accuracy                           0.98       424\n",
      "   macro avg       0.98      0.98      0.98       424\n",
      "weighted avg       0.98      0.98      0.98       424\n",
      "\n"
     ]
    },
    {
     "data": {
      "text/plain": [
       "array([2, 2])"
      ]
     },
     "execution_count": 95,
     "metadata": {},
     "output_type": "execute_result"
    }
   ],
   "source": [
    "print(classification_report(b,y_predict))     #Accuracy with first 100 training points only\n",
    "svcclassifier.n_support_                      #No.of Support Vectors\n"
   ]
  },
  {
   "cell_type": "code",
   "execution_count": 96,
   "id": "38dbd367",
   "metadata": {},
   "outputs": [],
   "source": [
    "train_first200 = df_rows.iloc[:200]\n",
    "x=train_first200.drop('Column2',axis=1)\n",
    "y=train_first200['Column2']\n",
    "svcclassifier=SVC(kernel='linear')\n",
    "svcclassifier.fit(x,y)\n",
    "y_predict=svcclassifier.predict(a)\n"
   ]
  },
  {
   "cell_type": "code",
   "execution_count": 97,
   "id": "7b8d0390",
   "metadata": {},
   "outputs": [
    {
     "name": "stdout",
     "output_type": "stream",
     "text": [
      "              precision    recall  f1-score   support\n",
      "\n",
      "           1       1.00      0.97      0.98       264\n",
      "           5       0.95      1.00      0.98       160\n",
      "\n",
      "    accuracy                           0.98       424\n",
      "   macro avg       0.98      0.98      0.98       424\n",
      "weighted avg       0.98      0.98      0.98       424\n",
      "\n"
     ]
    },
    {
     "data": {
      "text/plain": [
       "array([4, 4])"
      ]
     },
     "execution_count": 97,
     "metadata": {},
     "output_type": "execute_result"
    }
   ],
   "source": [
    "print(classification_report(b,y_predict))         #Accuracy with first 200 training points only\n",
    "svcclassifier.n_support_                          #No.of Support Vectors"
   ]
  },
  {
   "cell_type": "code",
   "execution_count": 98,
   "id": "1f2bf13b",
   "metadata": {},
   "outputs": [],
   "source": [
    "train_first800 = df_rows.iloc[:800]\n",
    "x=train_first800.drop('Column2',axis=1)\n",
    "y=train_first800['Column2']\n",
    "svcclassifier=SVC(kernel='linear')\n",
    "svcclassifier.fit(x,y)\n",
    "y_predict=svcclassifier.predict(a)\n"
   ]
  },
  {
   "cell_type": "code",
   "execution_count": 99,
   "id": "b7378d66",
   "metadata": {},
   "outputs": [
    {
     "name": "stdout",
     "output_type": "stream",
     "text": [
      "              precision    recall  f1-score   support\n",
      "\n",
      "           1       1.00      0.97      0.98       264\n",
      "           5       0.95      1.00      0.98       160\n",
      "\n",
      "    accuracy                           0.98       424\n",
      "   macro avg       0.98      0.98      0.98       424\n",
      "weighted avg       0.98      0.98      0.98       424\n",
      "\n"
     ]
    },
    {
     "data": {
      "text/plain": [
       "array([7, 7])"
      ]
     },
     "execution_count": 99,
     "metadata": {},
     "output_type": "execute_result"
    }
   ],
   "source": [
    "print(classification_report(b,y_predict))     #Accuracy with first 800 training points only \n",
    "svcclassifier.n_support_                      #No.of Support Vectors"
   ]
  },
  {
   "cell_type": "markdown",
   "id": "3a2c1cf4",
   "metadata": {},
   "source": [
    "# Done for random 50 data points"
   ]
  },
  {
   "cell_type": "code",
   "execution_count": 127,
   "id": "8976eef3",
   "metadata": {},
   "outputs": [],
   "source": [
    "\n",
    "train_sample50 = df_rows.sample(n=50)\n",
    "x=train_sample50.drop('Column2',axis=1)\n",
    "y=train_sample50['Column2']\n",
    "svcclassifier=SVC(kernel='linear')\n",
    "svcclassifier.fit(x,y)\n",
    "y_predict=svcclassifier.predict(a)\n"
   ]
  },
  {
   "cell_type": "code",
   "execution_count": 128,
   "id": "bce1ad82",
   "metadata": {},
   "outputs": [
    {
     "name": "stdout",
     "output_type": "stream",
     "text": [
      "              precision    recall  f1-score   support\n",
      "\n",
      "           1       1.00      0.96      0.98       264\n",
      "           5       0.94      1.00      0.97       160\n",
      "\n",
      "    accuracy                           0.97       424\n",
      "   macro avg       0.97      0.98      0.97       424\n",
      "weighted avg       0.98      0.97      0.97       424\n",
      "\n"
     ]
    },
    {
     "data": {
      "text/plain": [
       "array([2, 2])"
      ]
     },
     "execution_count": 128,
     "metadata": {},
     "output_type": "execute_result"
    }
   ],
   "source": [
    "print(classification_report(b,y_predict))      #Accuracy for random 50 points\n",
    "svcclassifier.n_support_                       #No.of Support Vectors"
   ]
  },
  {
   "cell_type": "markdown",
   "id": "b69d3ed9",
   "metadata": {},
   "source": [
    "# 4.d"
   ]
  },
  {
   "cell_type": "code",
   "execution_count": 132,
   "id": "a61d0f99",
   "metadata": {},
   "outputs": [
    {
     "name": "stdout",
     "output_type": "stream",
     "text": [
      "0.01\n",
      "0.36\n",
      "0.37735849056603776\n",
      "1\n",
      "0.0\n",
      "0.02358490566037741\n",
      "100\n",
      "0.0\n",
      "0.02594339622641506\n",
      "10000\n",
      "0.0\n",
      "0.02594339622641506\n",
      "1000000\n",
      "0.0\n",
      "0.02594339622641506\n"
     ]
    }
   ],
   "source": [
    "c=[0.01,1,100,10000,1000000]\n",
    "for C in c:\n",
    "    print(C)\n",
    "    rbfclassifier=SVC(kernel='rbf',C=C)\n",
    "    print(1-rbfclassifier.fit(x,y).score(x,y))\n",
    "    y_pre=rbfclassifier.predict(a)\n",
    "    print(1-rbfclassifier.score(a,b))\n",
    "    \n"
   ]
  },
  {
   "cell_type": "code",
   "execution_count": null,
   "id": "ca25029c",
   "metadata": {},
   "outputs": [],
   "source": []
  },
  {
   "cell_type": "markdown",
   "id": "269fc1b9",
   "metadata": {},
   "source": [
    "# 4. c\n",
    "   "
   ]
  },
  {
   "cell_type": "markdown",
   "id": "a0a40f2d",
   "metadata": {},
   "source": [
    "# i"
   ]
  },
  {
   "cell_type": "code",
   "execution_count": 41,
   "id": "e65259ec",
   "metadata": {},
   "outputs": [
    {
     "name": "stdout",
     "output_type": "stream",
     "text": [
      "0.42000000000000004\n",
      "0.31999999999999995\n"
     ]
    }
   ],
   "source": [
    "polyclassifier = SVC(kernel='poly', degree=2,C=0.0001)\n",
    "polyclassifier.fit(x,y)\n",
    "y_predictpoly=polyclassifier.predict(a)\n",
    "print(1-polyclassifier.fit(x,y).score(x,y))                        #Training error for Q=2\n",
    "polyclassifier = SVC(kernel='poly', degree=5,C=0.0001)\n",
    "polyclassifier.fit(x,y)\n",
    "y_predictpoly=polyclassifier.predict(a)\n",
    "print(1-polyclassifier.fit(x,y).score(x,y))                        #Training error for Q=5"
   ]
  },
  {
   "cell_type": "markdown",
   "id": "5ab267dc",
   "metadata": {},
   "source": [
    "# ii"
   ]
  },
  {
   "cell_type": "code",
   "execution_count": 39,
   "id": "ca961b58",
   "metadata": {},
   "outputs": [
    {
     "name": "stdout",
     "output_type": "stream",
     "text": [
      "[21 21]\n",
      "[12 12]\n"
     ]
    }
   ],
   "source": [
    "polyclassifier = SVC(kernel='poly', degree=2,C=0.001)\n",
    "polyclassifier.fit(x,y)\n",
    "y_predictpoly=polyclassifier.predict(a)\n",
    "print(polyclassifier.n_support_)                            \n",
    "polyclassifier = SVC(kernel='poly', degree=5,C=0.001)\n",
    "polyclassifier.fit(x,y)\n",
    "y_predictpoly=polyclassifier.predict(a)\n",
    "print(polyclassifier.n_support_)                                   \n"
   ]
  },
  {
   "cell_type": "markdown",
   "id": "369264fb",
   "metadata": {},
   "source": [
    "# iii"
   ]
  },
  {
   "cell_type": "code",
   "execution_count": 40,
   "id": "58969ec4",
   "metadata": {},
   "outputs": [
    {
     "name": "stdout",
     "output_type": "stream",
     "text": [
      "0.06000000000000005\n",
      "0.040000000000000036\n"
     ]
    }
   ],
   "source": [
    "polyclassifier = SVC(kernel='poly', degree=2,C=0.01)\n",
    "polyclassifier.fit(x,y)\n",
    "y_predictpoly=polyclassifier.predict(a)\n",
    "print(1-polyclassifier.fit(x,y).score(x,y))          #Training error at Q=2\n",
    "polyclassifier = SVC(kernel='poly', degree=5,C=0.01)\n",
    "polyclassifier.fit(x,y)\n",
    "y_predictpoly=polyclassifier.predict(a)\n",
    "print(1-polyclassifier.fit(x,y).score(x,y))           #Training error at Q=5"
   ]
  },
  {
   "cell_type": "markdown",
   "id": "da49d4bb",
   "metadata": {},
   "source": [
    "# iv "
   ]
  },
  {
   "cell_type": "code",
   "execution_count": 131,
   "id": "b3bcbabe",
   "metadata": {},
   "outputs": [
    {
     "name": "stdout",
     "output_type": "stream",
     "text": [
      "0.02358490566037741\n",
      "0.018867924528301883\n"
     ]
    }
   ],
   "source": [
    "polyclassifier = SVC(kernel='poly', degree=2,C=1)\n",
    "polyclassifier.fit(x,y)\n",
    "y_predictpoly=polyclassifier.predict(a)\n",
    "print(1-polyclassifier.score(a,b))                    #Test error at Q=2\n",
    "polyclassifier = SVC(kernel='poly', degree=5,C=1)\n",
    "polyclassifier.fit(x,y)\n",
    "y_predictpoly=polyclassifier.predict(a)\n",
    "print(1-polyclassifier.score(a,b))                    #Test error at Q=5"
   ]
  },
  {
   "cell_type": "code",
   "execution_count": null,
   "id": "59a66bca",
   "metadata": {},
   "outputs": [],
   "source": []
  },
  {
   "cell_type": "code",
   "execution_count": null,
   "id": "48db525e",
   "metadata": {},
   "outputs": [],
   "source": []
  },
  {
   "cell_type": "code",
   "execution_count": null,
   "id": "ca56d028",
   "metadata": {},
   "outputs": [],
   "source": []
  },
  {
   "cell_type": "code",
   "execution_count": null,
   "id": "23ee5744",
   "metadata": {},
   "outputs": [],
   "source": [
    "   \n"
   ]
  },
  {
   "cell_type": "code",
   "execution_count": null,
   "id": "7d64c1b9",
   "metadata": {},
   "outputs": [],
   "source": []
  }
 ],
 "metadata": {
  "kernelspec": {
   "display_name": "Python 3",
   "language": "python",
   "name": "python3"
  },
  "language_info": {
   "codemirror_mode": {
    "name": "ipython",
    "version": 3
   },
   "file_extension": ".py",
   "mimetype": "text/x-python",
   "name": "python",
   "nbconvert_exporter": "python",
   "pygments_lexer": "ipython3",
   "version": "3.8.8"
  }
 },
 "nbformat": 4,
 "nbformat_minor": 5
}
