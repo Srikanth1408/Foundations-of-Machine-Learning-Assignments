{
 "cells": [
  {
   "cell_type": "markdown",
   "id": "5c662249",
   "metadata": {},
   "source": [
    "# Q5\n"
   ]
  },
  {
   "cell_type": "markdown",
   "id": "5069ff3d",
   "metadata": {},
   "source": [
    "# Implemented Linear Kernel"
   ]
  },
  {
   "cell_type": "code",
   "execution_count": 37,
   "id": "e9ec9bc5",
   "metadata": {},
   "outputs": [],
   "source": [
    "import pandas as pd\n",
    "import numpy as np\n",
    "import matplotlib.pyplot as plt\n",
    "from sklearn.model_selection import train_test_split\n",
    "from sklearn.svm import SVC\n",
    "from sklearn.metrics import classification_report\n",
    "from sklearn.metrics import accuracy_score"
   ]
  },
  {
   "cell_type": "code",
   "execution_count": 38,
   "id": "d5557b08",
   "metadata": {},
   "outputs": [
    {
     "name": "stdout",
     "output_type": "stream",
     "text": [
      "6000 0\n"
     ]
    }
   ],
   "source": [
    "train_data = pd.read_csv('gisette_train.data',header=None)\n",
    "train_data1=train_data.fillna(method='pad',axis=1)\n",
    "train_data1\n",
    "print(train_data.isnull().sum().sum(),train_data1.isnull().sum().sum())\n"
   ]
  },
  {
   "cell_type": "code",
   "execution_count": 39,
   "id": "2e7fd724",
   "metadata": {},
   "outputs": [
    {
     "name": "stdout",
     "output_type": "stream",
     "text": [
      "(6000, 5001)\n"
     ]
    },
    {
     "data": {
      "text/html": [
       "<div>\n",
       "<style scoped>\n",
       "    .dataframe tbody tr th:only-of-type {\n",
       "        vertical-align: middle;\n",
       "    }\n",
       "\n",
       "    .dataframe tbody tr th {\n",
       "        vertical-align: top;\n",
       "    }\n",
       "\n",
       "    .dataframe thead th {\n",
       "        text-align: right;\n",
       "    }\n",
       "</style>\n",
       "<table border=\"1\" class=\"dataframe\">\n",
       "  <thead>\n",
       "    <tr style=\"text-align: right;\">\n",
       "      <th></th>\n",
       "      <th>0</th>\n",
       "      <th>1</th>\n",
       "      <th>2</th>\n",
       "      <th>3</th>\n",
       "      <th>4</th>\n",
       "      <th>5</th>\n",
       "      <th>6</th>\n",
       "      <th>7</th>\n",
       "      <th>8</th>\n",
       "      <th>9</th>\n",
       "      <th>...</th>\n",
       "      <th>4991</th>\n",
       "      <th>4992</th>\n",
       "      <th>4993</th>\n",
       "      <th>4994</th>\n",
       "      <th>4995</th>\n",
       "      <th>4996</th>\n",
       "      <th>4997</th>\n",
       "      <th>4998</th>\n",
       "      <th>4999</th>\n",
       "      <th>5000</th>\n",
       "    </tr>\n",
       "  </thead>\n",
       "  <tbody>\n",
       "    <tr>\n",
       "      <th>0</th>\n",
       "      <td>550</td>\n",
       "      <td>0</td>\n",
       "      <td>495</td>\n",
       "      <td>0</td>\n",
       "      <td>0</td>\n",
       "      <td>0</td>\n",
       "      <td>0</td>\n",
       "      <td>976</td>\n",
       "      <td>0</td>\n",
       "      <td>0</td>\n",
       "      <td>...</td>\n",
       "      <td>0</td>\n",
       "      <td>0</td>\n",
       "      <td>991</td>\n",
       "      <td>991</td>\n",
       "      <td>0</td>\n",
       "      <td>0</td>\n",
       "      <td>0</td>\n",
       "      <td>0</td>\n",
       "      <td>983</td>\n",
       "      <td>NaN</td>\n",
       "    </tr>\n",
       "    <tr>\n",
       "      <th>1</th>\n",
       "      <td>0</td>\n",
       "      <td>0</td>\n",
       "      <td>0</td>\n",
       "      <td>0</td>\n",
       "      <td>0</td>\n",
       "      <td>0</td>\n",
       "      <td>0</td>\n",
       "      <td>976</td>\n",
       "      <td>0</td>\n",
       "      <td>0</td>\n",
       "      <td>...</td>\n",
       "      <td>475</td>\n",
       "      <td>0</td>\n",
       "      <td>991</td>\n",
       "      <td>0</td>\n",
       "      <td>0</td>\n",
       "      <td>991</td>\n",
       "      <td>0</td>\n",
       "      <td>0</td>\n",
       "      <td>0</td>\n",
       "      <td>NaN</td>\n",
       "    </tr>\n",
       "    <tr>\n",
       "      <th>2</th>\n",
       "      <td>0</td>\n",
       "      <td>0</td>\n",
       "      <td>0</td>\n",
       "      <td>0</td>\n",
       "      <td>0</td>\n",
       "      <td>0</td>\n",
       "      <td>0</td>\n",
       "      <td>0</td>\n",
       "      <td>0</td>\n",
       "      <td>0</td>\n",
       "      <td>...</td>\n",
       "      <td>0</td>\n",
       "      <td>0</td>\n",
       "      <td>0</td>\n",
       "      <td>0</td>\n",
       "      <td>0</td>\n",
       "      <td>0</td>\n",
       "      <td>0</td>\n",
       "      <td>0</td>\n",
       "      <td>0</td>\n",
       "      <td>NaN</td>\n",
       "    </tr>\n",
       "    <tr>\n",
       "      <th>3</th>\n",
       "      <td>0</td>\n",
       "      <td>0</td>\n",
       "      <td>742</td>\n",
       "      <td>0</td>\n",
       "      <td>0</td>\n",
       "      <td>0</td>\n",
       "      <td>0</td>\n",
       "      <td>684</td>\n",
       "      <td>0</td>\n",
       "      <td>956</td>\n",
       "      <td>...</td>\n",
       "      <td>0</td>\n",
       "      <td>0</td>\n",
       "      <td>0</td>\n",
       "      <td>0</td>\n",
       "      <td>0</td>\n",
       "      <td>674</td>\n",
       "      <td>0</td>\n",
       "      <td>0</td>\n",
       "      <td>838</td>\n",
       "      <td>NaN</td>\n",
       "    </tr>\n",
       "    <tr>\n",
       "      <th>4</th>\n",
       "      <td>0</td>\n",
       "      <td>0</td>\n",
       "      <td>0</td>\n",
       "      <td>0</td>\n",
       "      <td>0</td>\n",
       "      <td>0</td>\n",
       "      <td>0</td>\n",
       "      <td>608</td>\n",
       "      <td>0</td>\n",
       "      <td>979</td>\n",
       "      <td>...</td>\n",
       "      <td>0</td>\n",
       "      <td>0</td>\n",
       "      <td>828</td>\n",
       "      <td>0</td>\n",
       "      <td>0</td>\n",
       "      <td>0</td>\n",
       "      <td>0</td>\n",
       "      <td>0</td>\n",
       "      <td>0</td>\n",
       "      <td>NaN</td>\n",
       "    </tr>\n",
       "  </tbody>\n",
       "</table>\n",
       "<p>5 rows × 5001 columns</p>\n",
       "</div>"
      ],
      "text/plain": [
       "   0     1     2     3     4     5     6     7     8     9     ...  4991  \\\n",
       "0   550     0   495     0     0     0     0   976     0     0  ...     0   \n",
       "1     0     0     0     0     0     0     0   976     0     0  ...   475   \n",
       "2     0     0     0     0     0     0     0     0     0     0  ...     0   \n",
       "3     0     0   742     0     0     0     0   684     0   956  ...     0   \n",
       "4     0     0     0     0     0     0     0   608     0   979  ...     0   \n",
       "\n",
       "   4992  4993  4994  4995  4996  4997  4998  4999  5000  \n",
       "0     0   991   991     0     0     0     0   983   NaN  \n",
       "1     0   991     0     0   991     0     0     0   NaN  \n",
       "2     0     0     0     0     0     0     0     0   NaN  \n",
       "3     0     0     0     0   674     0     0   838   NaN  \n",
       "4     0   828     0     0     0     0     0     0   NaN  \n",
       "\n",
       "[5 rows x 5001 columns]"
      ]
     },
     "execution_count": 39,
     "metadata": {},
     "output_type": "execute_result"
    }
   ],
   "source": [
    "print(train_data.shape) \n",
    "train_data.head(5)"
   ]
  },
  {
   "cell_type": "code",
   "execution_count": 40,
   "id": "d6c546c1",
   "metadata": {},
   "outputs": [
    {
     "name": "stdout",
     "output_type": "stream",
     "text": [
      "[ 1 -1  1 ... -1 -1 -1]\n"
     ]
    }
   ],
   "source": [
    "train_lables = pd.read_csv('train_lables.csv')\n",
    "print(np.ravel(train_lables))"
   ]
  },
  {
   "cell_type": "code",
   "execution_count": 41,
   "id": "d2578539",
   "metadata": {},
   "outputs": [
    {
     "data": {
      "text/plain": [
       "SVC(kernel='linear')"
      ]
     },
     "execution_count": 41,
     "metadata": {},
     "output_type": "execute_result"
    }
   ],
   "source": [
    "svcclassifier=SVC(kernel='linear')\n",
    "svcclassifier.fit(train_data1,np.ravel(train_lables))"
   ]
  },
  {
   "cell_type": "code",
   "execution_count": 42,
   "id": "e0ef3132",
   "metadata": {},
   "outputs": [
    {
     "name": "stdout",
     "output_type": "stream",
     "text": [
      "0 0\n"
     ]
    }
   ],
   "source": [
    "valid_data = pd.read_csv('gisette_valid.data',header=None)\n",
    "valid_data1=train_data.fillna(method='pad',axis=1)\n",
    "valid_data1000=valid_data1.iloc[:1000]      #Considered only  first 1000 data of valid sets as the labels are given for only 1000 dtapoints\n",
    "print(valid_data.isnull().sum().sum(),valid_data1.isnull().sum().sum())"
   ]
  },
  {
   "cell_type": "code",
   "execution_count": 43,
   "id": "b795c655",
   "metadata": {},
   "outputs": [
    {
     "name": "stdout",
     "output_type": "stream",
     "text": [
      "     Column1\n",
      "0          1\n",
      "1          1\n",
      "2         -1\n",
      "3          1\n",
      "4          1\n",
      "..       ...\n",
      "995       -1\n",
      "996        1\n",
      "997        1\n",
      "998       -1\n",
      "999       -1\n",
      "\n",
      "[1000 rows x 1 columns]\n"
     ]
    }
   ],
   "source": [
    "valid_lables = pd.read_csv('valid_labels.csv')\n",
    "print(valid_lables)\n",
    "\n"
   ]
  },
  {
   "cell_type": "code",
   "execution_count": 44,
   "id": "1a7b7385",
   "metadata": {
    "scrolled": true
   },
   "outputs": [
    {
     "name": "stdout",
     "output_type": "stream",
     "text": [
      "              precision    recall  f1-score   support\n",
      "\n",
      "          -1       0.53      0.54      0.54       500\n",
      "           1       0.53      0.52      0.53       500\n",
      "\n",
      "    accuracy                           0.53      1000\n",
      "   macro avg       0.53      0.53      0.53      1000\n",
      "weighted avg       0.53      0.53      0.53      1000\n",
      "\n",
      "[542 542]\n",
      "0.0\n",
      "0.469\n"
     ]
    }
   ],
   "source": [
    "print(classification_report(valid_lables,y_predict))\n",
    "print(svcclassifier.n_support_)                                     #No.of Support vectors\n",
    "print(1-svcclassifier.score(train_data1,np.ravel(train_lables)))      #Training error\n",
    "print(1-svcclassifier.score(valid_data1000,np.ravel(valid_lables)))   #Testing error\n"
   ]
  },
  {
   "cell_type": "markdown",
   "id": "b0b1dff3",
   "metadata": {},
   "source": [
    "# Implemented RBF kernel "
   ]
  },
  {
   "cell_type": "code",
   "execution_count": 45,
   "id": "c2242a6c",
   "metadata": {},
   "outputs": [
    {
     "data": {
      "text/plain": [
       "SVC(gamma=0.001)"
      ]
     },
     "execution_count": 45,
     "metadata": {},
     "output_type": "execute_result"
    }
   ],
   "source": [
    "rbfclassifier=SVC(kernel='rbf',gamma=0.001)\n",
    "rbfclassifier.fit(train_data1,np.ravel(train_lables))\n",
    "    "
   ]
  },
  {
   "cell_type": "code",
   "execution_count": 48,
   "id": "395343d1",
   "metadata": {},
   "outputs": [
    {
     "name": "stdout",
     "output_type": "stream",
     "text": [
      "              precision    recall  f1-score   support\n",
      "\n",
      "          -1       0.53      0.54      0.54       500\n",
      "           1       0.53      0.52      0.53       500\n",
      "\n",
      "    accuracy                           0.53      1000\n",
      "   macro avg       0.53      0.53      0.53      1000\n",
      "weighted avg       0.53      0.53      0.53      1000\n",
      "\n",
      "[3000 3000]\n",
      "0.0\n",
      "0.469\n"
     ]
    }
   ],
   "source": [
    "y_predict1=rbfclassifier.predict(valid_data1000)\n",
    "print(classification_report(valid_lables,y_predict1))\n",
    "print(rbfclassifier.n_support_)                                     #No.of Support vectors\n",
    "print(1-rbfclassifier.score(train_data1,np.ravel(train_lables)))      #Training error\n",
    "print(1-rbfclassifier.score(valid_data1000,np.ravel(valid_lables)))   #Testing error\n",
    "\n"
   ]
  },
  {
   "cell_type": "markdown",
   "id": "eff76bf6",
   "metadata": {},
   "source": [
    "# Implemented Polynomial Kernel"
   ]
  },
  {
   "cell_type": "code",
   "execution_count": 49,
   "id": "a4e72258",
   "metadata": {},
   "outputs": [
    {
     "data": {
      "text/plain": [
       "SVC(coef0=1, degree=2, kernel='poly')"
      ]
     },
     "execution_count": 49,
     "metadata": {},
     "output_type": "execute_result"
    }
   ],
   "source": [
    "polyclassifier = SVC(kernel='poly', degree=2, coef0=1)\n",
    "polyclassifier.fit(train_data1,np.ravel(train_lables))"
   ]
  },
  {
   "cell_type": "code",
   "execution_count": 51,
   "id": "00e2b5de",
   "metadata": {},
   "outputs": [
    {
     "name": "stdout",
     "output_type": "stream",
     "text": [
      "              precision    recall  f1-score   support\n",
      "\n",
      "          -1       0.53      0.54      0.54       500\n",
      "           1       0.53      0.52      0.53       500\n",
      "\n",
      "    accuracy                           0.53      1000\n",
      "   macro avg       0.53      0.53      0.53      1000\n",
      "weighted avg       0.53      0.53      0.53      1000\n",
      "\n",
      "[642 691]\n",
      "0.0004999999999999449\n",
      "0.469\n"
     ]
    }
   ],
   "source": [
    "y_predict2=polyclassifier.predict(valid_data1000)\n",
    "print(classification_report(valid_lables,y_predict2))\n",
    "print(polyclassifier.n_support_)                                      #No.of Support vectors\n",
    "print(1-polyclassifier.score(train_data1,np.ravel(train_lables)))     #Training error\n",
    "print(1-polyclassifier.score(valid_data1000,np.ravel(valid_lables)))  #Testing error\n"
   ]
  },
  {
   "cell_type": "code",
   "execution_count": null,
   "id": "14a55cd1",
   "metadata": {},
   "outputs": [],
   "source": []
  }
 ],
 "metadata": {
  "kernelspec": {
   "display_name": "Python 3",
   "language": "python",
   "name": "python3"
  },
  "language_info": {
   "codemirror_mode": {
    "name": "ipython",
    "version": 3
   },
   "file_extension": ".py",
   "mimetype": "text/x-python",
   "name": "python",
   "nbconvert_exporter": "python",
   "pygments_lexer": "ipython3",
   "version": "3.8.8"
  }
 },
 "nbformat": 4,
 "nbformat_minor": 5
}
