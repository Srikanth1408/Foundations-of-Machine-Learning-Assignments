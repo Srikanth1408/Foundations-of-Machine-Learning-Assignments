{
 "cells": [
  {
   "cell_type": "code",
   "execution_count": 2,
   "id": "392815d0",
   "metadata": {},
   "outputs": [],
   "source": [
    "import numpy as np\n",
    "from sklearn import datasets\n",
    "from sklearn.preprocessing import StandardScaler\n",
    "from itertools import cycle, islice\n",
    "import matplotlib.pyplot as plt\n",
    "import queue\n",
    "import pandas as pd\n",
    "\n",
    "\n",
    "from scipy.spatial.distance import cdist"
   ]
  },
  {
   "cell_type": "raw",
   "id": "b8781ed2",
   "metadata": {},
   "source": [
    "DBSCAN code from sratch"
   ]
  },
  {
   "cell_type": "code",
   "execution_count": 3,
   "id": "dfa7901e",
   "metadata": {},
   "outputs": [],
   "source": [
    "class DBSCAN():\n",
    "    def __init__(self):\n",
    "        self.core = -1\n",
    "        self.border = -2\n",
    "\n",
    "    # Find all neighbour points at epsilon distance\n",
    "    def neighbour_points(self, data, point, eps):\n",
    "        points = []\n",
    "        for i in range(len(data)):\n",
    "            # Euclidian distance\n",
    "            if np.linalg.norm([a_i - b_i for a_i, b_i in zip(data[i], data[point])]) <= eps:\n",
    "                points.append(i)\n",
    "        return points\n",
    "\n",
    "    # Fit the data into the DBSCAN model\n",
    "    def fit(self, data, Eps, minpts):\n",
    "        # initialize all points as outliers\n",
    "        point_label = [0] * len(data)\n",
    "        point_count = []\n",
    "\n",
    "        # initilize list for core/border points\n",
    "        core = []\n",
    "        border = []\n",
    "\n",
    "        # Find the neighbours of each individual point\n",
    "        for i in range(len(data)):\n",
    "            point_count.append(self.neighbour_points(data, i, Eps))\n",
    "\n",
    "        # Find all the core points, border points and outliers\n",
    "        for i in range(len(point_count)):\n",
    "            if (len(point_count[i]) >= minpts):\n",
    "                point_label[i] = self.core\n",
    "                core.append(i)\n",
    "            else:\n",
    "                border.append(i)\n",
    "\n",
    "        for i in border:\n",
    "            for j in point_count[i]:\n",
    "                if j in core:\n",
    "                    point_label[i] = self.border\n",
    "                    break\n",
    "\n",
    "        # Assign points to a cluster\n",
    "\n",
    "        cluster = 1\n",
    "\n",
    "        # Here we use a queue to find all the neighbourhood points of a core point and find the indirectly reachable points\n",
    "        # We are essentially performing Breadth First search of all points which are within Epsilon distance for each other\n",
    "        for i in range(len(point_label)):\n",
    "            q = queue.Queue()\n",
    "            if (point_label[i] == self.core):\n",
    "                point_label[i] = cluster\n",
    "                for x in point_count[i]:\n",
    "                    if(point_label[x] == self.core):\n",
    "                        q.put(x)\n",
    "                        point_label[x] = cluster\n",
    "                    elif(point_label[x] == self.border):\n",
    "                        point_label[x] = cluster\n",
    "                while not q.empty():\n",
    "                    neighbors = point_count[q.get()]\n",
    "                    for y in neighbors:\n",
    "                        if (point_label[y] == self.core):\n",
    "                            point_label[y] = cluster\n",
    "                            q.put(y)\n",
    "                        if (point_label[y] == self.border):\n",
    "                            point_label[y] = cluster\n",
    "                cluster += 1  # Move on to the next cluster\n",
    "\n",
    "        return point_label, cluster\n",
    "\n",
    "    # Visualize the clusters\n",
    "    def visualize(self, data, cluster, numberOfClusters):\n",
    "        N = len(data)\n",
    "\n",
    "        colors = np.array(list(islice(cycle(['#FE4A49', '#2AB7CA']), 3)))\n",
    "\n",
    "        for i in range(numberOfClusters):\n",
    "            if (i == 0):\n",
    "                # Plot all outliers point as black\n",
    "                color = '#000000'\n",
    "            else:\n",
    "                color = colors[i % len(colors)]\n",
    "\n",
    "            x, y = [], []\n",
    "            for j in range(N):\n",
    "                if cluster[j] == i:\n",
    "                    x.append(data[j, 0])\n",
    "                    y.append(data[j, 1])\n",
    "            plt.scatter(x, y, c=color, alpha=1, marker='.')\n",
    "        plt.show()\n"
   ]
  },
  {
   "cell_type": "code",
   "execution_count": 4,
   "id": "d930585f",
   "metadata": {},
   "outputs": [
    {
     "name": "stdout",
     "output_type": "stream",
     "text": [
      "[1, 2, 1, 2, 1, 1, 2, 2, 2, 1, 1, 1, 2, 1, 2, 2, 2, 1, 2, 2, 1, 2, 2, 1, 1, 2, 2, 1, 1, 2, 2, 2, 1, 1, 1, 1, 1, 2, 1, 1, 2, 1, 1, 2, 1, 2, 1, 2, 2, 2, 1, 2, 2, 1, 1, 2, 2, 2, 2, 2, 2, 1, 2, 2, 1, 2, 2, 1, 1, 2, 2, 1, 1, 1, 2, 2, 2, 1, 1, 2, 1, 2, 1, 2, 1, 1, 2, 1, 1, 2, 1, 1, 2, 2, 1, 1, 1, 2, 1, 1, 1, 1, 2, 1, 1, 2, 1, 1, 1, 2, 1, 2, 2, 2, 2, 2, 2, 1, 2, 1, 1, 1, 1, 1, 2, 1, 1, 2, 2, 2, 2, 2, 2, 2, 1, 1, 2, 2, 1, 2, 1, 2, 2, 2, 1, 1, 1, 1, 2, 1, 2, 1, 1, 1, 2, 2, 1, 1, 1, 2, 1, 2, 1, 1, 2, 2, 2, 1, 2, 2, 2, 2, 1, 1, 2, 2, 1, 1, 1, 1, 1, 1, 2, 1, 1, 1, 1, 2, 2, 2, 2, 1, 2, 1, 1, 2, 2, 2, 2, 2, 2, 2, 1, 1, 1, 2, 2, 2, 1, 2, 2, 2, 1, 1, 1, 2, 2, 1, 2, 2, 2, 1, 2, 1, 1, 1, 1, 2, 1, 1, 1, 1, 1, 2, 1, 1, 2, 1, 1, 2, 1, 2, 2, 2, 1, 1, 1, 2, 1, 2, 1, 2, 1, 2, 2, 1, 1, 1, 2, 2, 1, 1, 1, 2, 2, 1, 1, 1, 1, 2, 1, 1, 2, 2, 2, 2, 1, 1, 1, 2, 1, 2, 1, 2, 1, 2, 1, 1, 1, 2, 1, 1, 2, 2, 1, 2, 2, 1, 2, 2, 1, 1, 2, 2, 1, 2, 2, 1, 2, 1, 2, 2, 2, 1, 2, 2, 1, 1, 1, 2, 2, 1, 1, 2, 1, 2, 1, 2, 2, 1, 1, 2, 2, 1, 2, 2, 1, 2, 1, 1, 1, 2, 2, 2, 2, 2, 1, 1, 1, 2, 1, 2, 1, 2, 2, 1, 1, 2, 1, 2, 1, 2, 2, 2, 1, 2, 2, 1, 2, 1, 2, 2, 2, 2, 2, 1, 1, 2, 2, 2, 1, 2, 1, 2, 1, 1, 1, 1, 2, 1, 2, 1, 2, 1, 1, 2, 1, 1, 1, 1, 1, 2, 1, 2, 1, 2, 1, 1, 1, 1, 1, 2, 1, 1, 1, 1, 1, 2, 2, 1, 2, 2, 2, 1, 2, 1, 1, 1, 1, 1, 2, 2, 1, 1, 2, 2, 2, 2, 2, 1, 2, 2, 1, 2, 2, 1, 1, 1, 2, 1, 2, 2, 1, 2, 2, 1, 2, 2, 2, 1, 1, 2, 2, 2, 2, 1, 2, 2, 2, 1, 2, 1, 2, 1, 1, 1, 2, 2, 1, 2, 2, 2, 1, 1, 1, 1, 2, 2, 1, 1, 1, 2, 2, 2, 2, 1, 2, 1, 2, 2] 3\n"
     ]
    },
    {
     "data": {
      "image/png": "[encoded data removed]",
      "text/plain": [
       "<Figure size 432x288 with 1 Axes>"
      ]
     },
     "metadata": {
      "needs_background": "light"
     },
     "output_type": "display_data"
    }
   ],
   "source": [
    "def main():\n",
    "\n",
    "    # Reading from the data file\n",
    "    df = pd.read_csv(\"Book1.csv\")\n",
    "\n",
    "    dataset = df.astype(float).values.tolist()\n",
    "\n",
    "    # normalize dataset\n",
    "    X = StandardScaler().fit_transform(dataset)\n",
    "\n",
    "    _DBSCAN = DBSCAN()\n",
    "    point_labels, clusters = _DBSCAN.fit(X, 0.125, 6)\n",
    "\n",
    "    print(point_labels, clusters)\n",
    "#     print(X)\n",
    "\n",
    "    _DBSCAN.visualize(X, point_labels, clusters)\n",
    "  \n",
    "\n",
    "\n",
    "if __name__ == \"__main__\":\n",
    "    main()"
   ]
  },
  {
   "cell_type": "code",
   "execution_count": 5,
   "id": "ea345e38",
   "metadata": {},
   "outputs": [
    {
     "data": {
      "text/html": [
       "<div>\n",
       "<style scoped>\n",
       "    .dataframe tbody tr th:only-of-type {\n",
       "        vertical-align: middle;\n",
       "    }\n",
       "\n",
       "    .dataframe tbody tr th {\n",
       "        vertical-align: top;\n",
       "    }\n",
       "\n",
       "    .dataframe thead th {\n",
       "        text-align: right;\n",
       "    }\n",
       "</style>\n",
       "<table border=\"1\" class=\"dataframe\">\n",
       "  <thead>\n",
       "    <tr style=\"text-align: right;\">\n",
       "      <th></th>\n",
       "      <th>Column1</th>\n",
       "      <th>Column2</th>\n",
       "    </tr>\n",
       "  </thead>\n",
       "  <tbody>\n",
       "    <tr>\n",
       "      <th>0</th>\n",
       "      <td>1.489034</td>\n",
       "      <td>-0.372265</td>\n",
       "    </tr>\n",
       "    <tr>\n",
       "      <th>1</th>\n",
       "      <td>-0.993560</td>\n",
       "      <td>0.113308</td>\n",
       "    </tr>\n",
       "    <tr>\n",
       "      <th>2</th>\n",
       "      <td>1.375386</td>\n",
       "      <td>-0.426868</td>\n",
       "    </tr>\n",
       "    <tr>\n",
       "      <th>3</th>\n",
       "      <td>-0.856408</td>\n",
       "      <td>0.516299</td>\n",
       "    </tr>\n",
       "    <tr>\n",
       "      <th>4</th>\n",
       "      <td>0.446398</td>\n",
       "      <td>-0.332782</td>\n",
       "    </tr>\n",
       "    <tr>\n",
       "      <th>...</th>\n",
       "      <td>...</td>\n",
       "      <td>...</td>\n",
       "    </tr>\n",
       "    <tr>\n",
       "      <th>495</th>\n",
       "      <td>0.199975</td>\n",
       "      <td>-0.099966</td>\n",
       "    </tr>\n",
       "    <tr>\n",
       "      <th>496</th>\n",
       "      <td>-0.760611</td>\n",
       "      <td>0.649208</td>\n",
       "    </tr>\n",
       "    <tr>\n",
       "      <th>497</th>\n",
       "      <td>1.856408</td>\n",
       "      <td>-0.016299</td>\n",
       "    </tr>\n",
       "    <tr>\n",
       "      <th>498</th>\n",
       "      <td>-0.169505</td>\n",
       "      <td>0.985529</td>\n",
       "    </tr>\n",
       "    <tr>\n",
       "      <th>499</th>\n",
       "      <td>0.718170</td>\n",
       "      <td>0.695867</td>\n",
       "    </tr>\n",
       "  </tbody>\n",
       "</table>\n",
       "<p>500 rows × 2 columns</p>\n",
       "</div>"
      ],
      "text/plain": [
       "      Column1   Column2\n",
       "0    1.489034 -0.372265\n",
       "1   -0.993560  0.113308\n",
       "2    1.375386 -0.426868\n",
       "3   -0.856408  0.516299\n",
       "4    0.446398 -0.332782\n",
       "..        ...       ...\n",
       "495  0.199975 -0.099966\n",
       "496 -0.760611  0.649208\n",
       "497  1.856408 -0.016299\n",
       "498 -0.169505  0.985529\n",
       "499  0.718170  0.695867\n",
       "\n",
       "[500 rows x 2 columns]"
      ]
     },
     "execution_count": 5,
     "metadata": {},
     "output_type": "execute_result"
    }
   ],
   "source": [
    "df = pd.read_csv(\"Book1.csv\")\n",
    "df\n"
   ]
  },
  {
   "cell_type": "raw",
   "id": "0c2cc111",
   "metadata": {},
   "source": [
    "K Means using SkLearn"
   ]
  },
  {
   "cell_type": "code",
   "execution_count": 20,
   "id": "5f62b325",
   "metadata": {},
   "outputs": [],
   "source": [
    "df = pd.read_csv(\"Book1.csv\")\n",
    "\n",
    "dataset = df.astype(float).values.tolist()\n",
    "\n",
    "    # normalize dataset\n",
    "X = StandardScaler().fit_transform(dataset)\n",
    "\n",
    "from sklearn.cluster import KMeans\n",
    "\n",
    "km = KMeans(\n",
    "    n_clusters=2, init='random',\n",
    "    n_init=10, max_iter=300, \n",
    "    tol=1e-04, random_state=0\n",
    ")\n",
    "y_km = km.fit_predict(X)"
   ]
  },
  {
   "cell_type": "raw",
   "id": "b25ed7e1",
   "metadata": {},
   "source": [
    "Implemented Elbow method for optimal k"
   ]
  },
  {
   "cell_type": "code",
   "execution_count": 21,
   "id": "2b8097fc",
   "metadata": {},
   "outputs": [
    {
     "name": "stderr",
     "output_type": "stream",
     "text": [
      "C:\\ProgramData\\Anaconda3\\lib\\site-packages\\sklearn\\cluster\\_kmeans.py:881: UserWarning: KMeans is known to have a memory leak on Windows with MKL, when there are less chunks than available threads. You can avoid it by setting the environment variable OMP_NUM_THREADS=2.\n",
      "  warnings.warn(\n",
      "C:\\ProgramData\\Anaconda3\\lib\\site-packages\\sklearn\\cluster\\_kmeans.py:881: UserWarning: KMeans is known to have a memory leak on Windows with MKL, when there are less chunks than available threads. You can avoid it by setting the environment variable OMP_NUM_THREADS=2.\n",
      "  warnings.warn(\n"
     ]
    },
    {
     "data": {
      "image/png": "[encoded data removed]",
      "text/plain": [
       "<Figure size 432x288 with 1 Axes>"
      ]
     },
     "metadata": {
      "needs_background": "light"
     },
     "output_type": "display_data"
    }
   ],
   "source": [
    "# k means determine k\n",
    "distortions = []\n",
    "K = range(1,10)\n",
    "for k in K:\n",
    "    kmeanModel = KMeans(n_clusters=k).fit(X)\n",
    "    kmeanModel.fit(X)\n",
    "    distortions.append(sum(np.min(cdist(X, kmeanModel.cluster_centers_, 'euclidean'), axis=1)) / X.shape[0])\n",
    "    \n",
    "\n",
    "plt.plot(K, distortions, 'bx-')\n",
    "plt.xlabel('Values of K')\n",
    "plt.ylabel('Distortion')\n",
    "plt.title('The Elbow Method using Distortion')\n",
    "plt.show()"
   ]
  },
  {
   "cell_type": "code",
   "execution_count": 26,
   "id": "f19d453a",
   "metadata": {},
   "outputs": [
    {
     "data": {
      "image/png": "[encoded data removed]",
      "text/plain": [
       "<Figure size 432x288 with 1 Axes>"
      ]
     },
     "metadata": {
      "needs_background": "light"
     },
     "output_type": "display_data"
    }
   ],
   "source": [
    "# plot the 3 clusters\n",
    "plt.scatter(\n",
    "    X[y_km == 0, 0], X[y_km == 0, 1],\n",
    "    s=50, c='lightgreen',\n",
    "    marker='s', edgecolor='black',\n",
    "    label='cluster 1'\n",
    ")\n",
    "\n",
    "plt.scatter(\n",
    "    X[y_km == 1, 0], X[y_km == 1, 1],\n",
    "    s=50, c='orange',\n",
    "    marker='o', edgecolor='black',\n",
    "    label='cluster 2'\n",
    ")\n",
    "\n",
    "\n",
    "\n",
    "\n",
    "\n",
    "# plot the centroids\n",
    "plt.scatter(\n",
    "    km.cluster_centers_[:, 0], km.cluster_centers_[:, 1],\n",
    "    s=250, marker='*',\n",
    "    c='red', edgecolor='black',\n",
    "    label='centroids'\n",
    ")\n",
    "plt.legend(scatterpoints=1)\n",
    "plt.grid()\n",
    "plt.show()"
   ]
  },
  {
   "cell_type": "code",
   "execution_count": 9,
   "id": "283b80b1",
   "metadata": {},
   "outputs": [
    {
     "name": "stdout",
     "output_type": "stream",
     "text": [
      "[1, 2, 2, 3, 3, 2, 2, 1, 1, 2, 2, 2, 3, 3, 3, 3, 3, 3, 1, 3, 3, 2, 3, 1, 1, 1, 2, 3, 3, 3, 1, 3, 3, 3, 3, 3, 2, 1, 2, 1, 3, 3, 2, 3, 3, 3, 2, 1, 1, 3, 3, 1, 2, 3, 2, 3, 1, 2, 3, 1, 3, 2, 2, 1, 1, 1, 2, 1, 3, 3, 2, 1, 1, 3, 3, 1, 3, 1, 1, 3, 3, 2, 2, 2, 2, 1, 1, 3, 2, 1, 2, 3, 3, 1, 1, 3, 3, 3, 1, 1, 2, 3, 2, 3, 1, 3, 1, 2, 2, 1, 1, 2, 1, 2, 3, 3, 1, 3, 1, 3, 3, 2, 2, 3, 2, 1, 1, 2, 3, 3, 3, 1, 1, 1, 2, 1, 2, 2, 1, 2, 3, 2, 2, 1, 3, 2, 2, 1, 1, 3, 2, 3, 1, 2, 2, 1, 1, 3, 2, 3, 1, 2, 3, 3, 1, 1, 2, 3, 1, 2, 1, 3, 2, 3, 2, 1, 1, 3, 2, 2, 3, 1, 1, 1, 2, 2, 1, 3, 3, 1, 2, 3, 3, 1, 2, 2, 3, 3, 1, 1, 1, 3, 1, 2, 2, 3, 2, 2, 1, 3, 2, 1, 3, 3, 1, 1, 3, 2, 1, 3, 2, 2, 2, 3, 3, 1, 2, 2, 2, 2, 1, 1, 2, 1, 3, 3, 2, 1, 1, 3, 2, 1, 2, 1, 3, 2, 1, 2, 3, 2, 2, 1, 1, 3, 2, 1, 1, 3, 2, 3, 3, 2, 3, 3, 1, 1, 1, 1, 1, 3, 3, 1, 1, 2, 2, 1, 1, 3, 3, 2, 3, 1, 2, 3, 3, 2, 1, 3, 3, 1, 3, 3, 1, 1, 2, 0, 2, 1, 3, 1, 1, 1, 1, 1, 2, 1, 3, 2, 3, 2, 2, 2, 3, 3, 2, 2, 1, 1, 1, 3, 2, 3, 3, 2, 3, 3, 1, 3, 1, 2, 2, 3, 1, 2, 3, 3, 1, 2, 3, 2, 2, 3, 2, 2, 3, 1, 3, 1, 1, 2, 3, 3, 2, 2, 3, 1, 2, 1, 1, 1, 2, 3, 2, 2, 1, 1, 2, 3, 1, 2, 1, 3, 2, 2, 1, 3, 1, 3, 2, 3, 3, 1, 1, 1, 2, 2, 1, 3, 3, 2, 2, 2, 1, 2, 2, 3, 1, 1, 1, 2, 2, 3, 3, 3, 1, 3, 2, 3, 3, 1, 2, 3, 1, 3, 2, 3, 1, 2, 3, 3, 3, 1, 2, 3, 1, 2, 2, 1, 3, 1, 2, 1, 2, 3, 1, 2, 2, 2, 3, 2, 1, 1, 1, 1, 2, 1, 3, 3, 2, 1, 1, 3, 2, 1, 3, 2, 2, 2, 1, 3, 2, 2, 1, 2, 2, 1, 1, 1, 3, 2, 3, 2, 1, 1, 2, 1, 2, 1, 1, 2, 3, 3, 2, 2, 3, 2, 3, 3, 3, 3, 1, 2, 3, 1, 2, 0, 0, 0, 0, 0] 4\n"
     ]
    },
    {
     "data": {
      "image/png": "[encoded data removed]",
      "text/plain": [
       "<Figure size 432x288 with 1 Axes>"
      ]
     },
     "metadata": {
      "needs_background": "light"
     },
     "output_type": "display_data"
    }
   ],
   "source": [
    "def main():\n",
    "\n",
    "    # Reading from the data file\n",
    "    df = pd.read_csv(\"Book2.csv\")\n",
    "\n",
    "    dataset = df.astype(float).values.tolist()\n",
    "\n",
    "    # normalize dataset\n",
    "    X = StandardScaler().fit_transform(dataset)\n",
    "\n",
    "    _DBSCAN = DBSCAN()\n",
    "    point_labels, clusters = _DBSCAN.fit(X, 0.125, 6)\n",
    "\n",
    "    print(point_labels, clusters)\n",
    "#     print(X)\n",
    "\n",
    "    _DBSCAN.visualize(X, point_labels, clusters)\n",
    "  \n",
    "\n",
    "\n",
    "if __name__ == \"__main__\":\n",
    "    main()"
   ]
  },
  {
   "cell_type": "code",
   "execution_count": 10,
   "id": "faf2ce8b",
   "metadata": {},
   "outputs": [],
   "source": [
    "df = pd.read_csv(\"Book2.csv\")\n",
    "\n",
    "dataset = df.astype(float).values.tolist()\n",
    "\n",
    "    # normalize dataset\n",
    "X1 = StandardScaler().fit_transform(dataset)\n",
    "\n",
    "from sklearn.cluster import KMeans\n",
    "\n",
    "km = KMeans(\n",
    "    n_clusters=3, init='random',\n",
    "    n_init=10, max_iter=300, \n",
    "    tol=1e-04, random_state=0\n",
    ")\n",
    "y_km1 = km.fit_predict(X1)"
   ]
  },
  {
   "cell_type": "code",
   "execution_count": 11,
   "id": "8f24cf93",
   "metadata": {},
   "outputs": [
    {
     "name": "stderr",
     "output_type": "stream",
     "text": [
      "C:\\ProgramData\\Anaconda3\\lib\\site-packages\\sklearn\\cluster\\_kmeans.py:881: UserWarning: KMeans is known to have a memory leak on Windows with MKL, when there are less chunks than available threads. You can avoid it by setting the environment variable OMP_NUM_THREADS=2.\n",
      "  warnings.warn(\n",
      "C:\\ProgramData\\Anaconda3\\lib\\site-packages\\sklearn\\cluster\\_kmeans.py:881: UserWarning: KMeans is known to have a memory leak on Windows with MKL, when there are less chunks than available threads. You can avoid it by setting the environment variable OMP_NUM_THREADS=2.\n",
      "  warnings.warn(\n"
     ]
    },
    {
     "data": {
      "image/png": "[encoded data removed]",
      "text/plain": [
       "<Figure size 432x288 with 1 Axes>"
      ]
     },
     "metadata": {
      "needs_background": "light"
     },
     "output_type": "display_data"
    }
   ],
   "source": [
    "# k means determine k\n",
    "distortions = []\n",
    "K = range(1,10)\n",
    "for k in K:\n",
    "    kmeanModel1 = KMeans(n_clusters=k).fit(X1)\n",
    "    kmeanModel1.fit(X1)\n",
    "    distortions.append(sum(np.min(cdist(X1, kmeanModel.cluster_centers_, 'euclidean'), axis=1)) / X.shape[0])\n",
    "    \n",
    "\n",
    "plt.plot(K, distortions, 'bx-')\n",
    "plt.xlabel('Values of K')\n",
    "plt.ylabel('Distortion')\n",
    "plt.title('The Elbow Method using Distortion')\n",
    "plt.show()"
   ]
  },
  {
   "cell_type": "code",
   "execution_count": 12,
   "id": "9403c614",
   "metadata": {},
   "outputs": [
    {
     "data": {
      "image/png": "[encoded data removed]",
      "text/plain": [
       "<Figure size 432x288 with 1 Axes>"
      ]
     },
     "metadata": {
      "needs_background": "light"
     },
     "output_type": "display_data"
    }
   ],
   "source": [
    "# plot the 3 clusters\n",
    "plt.scatter(\n",
    "    X1[y_km1 == 0, 0], X1[y_km1 == 0, 1],\n",
    "    s=50, c='lightgreen',\n",
    "    marker='s', edgecolor='black',\n",
    "    label='cluster 1'\n",
    ")\n",
    "\n",
    "plt.scatter(\n",
    "    X1[y_km1 == 1, 0], X1[y_km1 == 1, 1],\n",
    "    s=50, c='orange',\n",
    "    marker='o', edgecolor='black',\n",
    "    label='cluster 2'\n",
    ")\n",
    "\n",
    "plt.scatter(\n",
    "    X1[y_km1 == 2, 0], X1[y_km1 == 2, 1],\n",
    "    s=50, c='lightblue',\n",
    "    marker='v', edgecolor='black',\n",
    "    label='cluster 3'\n",
    ")\n",
    "\n",
    "# plot the centroids\n",
    "plt.scatter(\n",
    "    km.cluster_centers_[:, 0], km.cluster_centers_[:, 1],\n",
    "    s=250, marker='*',\n",
    "    c='red', edgecolor='black',\n",
    "    label='centroids'\n",
    ")\n",
    "plt.legend(scatterpoints=1)\n",
    "plt.grid()\n",
    "plt.show()"
   ]
  },
  {
   "cell_type": "code",
   "execution_count": null,
   "id": "554b8706",
   "metadata": {},
   "outputs": [],
   "source": []
  },
  {
   "cell_type": "code",
   "execution_count": null,
   "id": "f1dde9bc",
   "metadata": {},
   "outputs": [],
   "source": []
  },
  {
   "cell_type": "code",
   "execution_count": null,
   "id": "fb052980",
   "metadata": {},
   "outputs": [],
   "source": []
  }
 ],
 "metadata": {
  "kernelspec": {
   "display_name": "Python 3",
   "language": "python",
   "name": "python3"
  },
  "language_info": {
   "codemirror_mode": {
    "name": "ipython",
    "version": 3
   },
   "file_extension": ".py",
   "mimetype": "text/x-python",
   "name": "python",
   "nbconvert_exporter": "python",
   "pygments_lexer": "ipython3",
   "version": "3.8.8"
  }
 },
 "nbformat": 4,
 "nbformat_minor": 5
}
